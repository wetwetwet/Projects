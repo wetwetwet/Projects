{
  "nbformat": 4,
  "nbformat_minor": 0,
  "metadata": {
    "colab": {
      "name": "Final Assignment.ipynb",
      "provenance": [],
      "collapsed_sections": [
        "74SeRfXzXdtk",
        "M-4spX7HHS31"
      ],
      "mount_file_id": "1V49yRE7uSsaiBt1TmNmQkVj6a3DoM14F",
      "authorship_tag": "ABX9TyPxs2vNANy4VvduY6RY/Fdk",
      "include_colab_link": true
    },
    "kernelspec": {
      "name": "python3",
      "display_name": "Python 3"
    },
    "language_info": {
      "name": "python"
    },
    "accelerator": "TPU"
  },
  "cells": [
    {
      "cell_type": "markdown",
      "metadata": {
        "id": "view-in-github",
        "colab_type": "text"
      },
      "source": [
        "<a href=\"https://colab.research.google.com/github/wetwetwet/Projects/blob/main/Final_Assignment.ipynb\" target=\"_parent\"><img src=\"https://colab.research.google.com/assets/colab-badge.svg\" alt=\"Open In Colab\"/></a>"
      ]
    },
    {
      "cell_type": "code",
      "metadata": {
        "id": "pxM1ebYWK0cT"
      },
      "source": [
        "### ==================== Final Assignment ======================= ### \n",
        "# Name: Huang Shih-Ting(Melody)\n",
        "# Matric No.: G2100429J\n",
        "import pandas as pd\n",
        "import keras\n",
        "import numpy as np\n",
        "from scipy import stats"
      ],
      "execution_count": null,
      "outputs": []
    },
    {
      "cell_type": "code",
      "metadata": {
        "colab": {
          "base_uri": "https://localhost:8080/"
        },
        "id": "-i8XEdfzhdkC",
        "outputId": "1524430d-f9c5-474a-d547-74d378e722f8"
      },
      "source": [
        "from google.colab import drive\n",
        "drive.mount('/content/drive')"
      ],
      "execution_count": null,
      "outputs": [
        {
          "output_type": "stream",
          "name": "stdout",
          "text": [
            "Mounted at /content/drive\n"
          ]
        }
      ]
    },
    {
      "cell_type": "code",
      "metadata": {
        "id": "DezbesGULL4N"
      },
      "source": [
        "bank = pd.read_csv(\"/content/drive/MyDrive/AN6001/Credit Card Default.csv\")"
      ],
      "execution_count": null,
      "outputs": []
    },
    {
      "cell_type": "code",
      "metadata": {
        "colab": {
          "base_uri": "https://localhost:8080/"
        },
        "id": "a_Z55vVWLw22",
        "outputId": "56de2290-8ac7-4748-8dc4-1e5543cbe661"
      },
      "source": [
        "print(bank)"
      ],
      "execution_count": null,
      "outputs": [
        {
          "output_type": "stream",
          "name": "stdout",
          "text": [
            "      clientid       income        age         loan  default\n",
            "0            1  66155.92510  59.017015  8106.532131        0\n",
            "1            2  34415.15397  48.117153  6564.745018        0\n",
            "2            3  57317.17006  63.108049  8020.953296        0\n",
            "3            4  42709.53420  45.751972  6103.642260        0\n",
            "4            5  66952.68885  18.584336  8770.099235        1\n",
            "...        ...          ...        ...          ...      ...\n",
            "1995      1996  59221.04487  48.518179  1926.729397        0\n",
            "1996      1997  69516.12757  23.162104  3503.176156        0\n",
            "1997      1998  44311.44926  28.017167  5522.786693        1\n",
            "1998      1999  43756.05660  63.971796  1622.722598        0\n",
            "1999      2000  69436.57955  56.152617  7378.833599        0\n",
            "\n",
            "[2000 rows x 5 columns]\n"
          ]
        }
      ]
    },
    {
      "cell_type": "markdown",
      "metadata": {
        "id": "YkcuiezhMQc3"
      },
      "source": [
        "# **Data Wrangling**"
      ]
    },
    {
      "cell_type": "code",
      "metadata": {
        "colab": {
          "base_uri": "https://localhost:8080/",
          "height": 297
        },
        "id": "-Lhb7IkMN_Ez",
        "outputId": "8cb16ab0-3595-4fda-d7ce-9729b0ccd9b1"
      },
      "source": [
        "bank.describe()"
      ],
      "execution_count": null,
      "outputs": [
        {
          "output_type": "execute_result",
          "data": {
            "text/html": [
              "<div>\n",
              "<style scoped>\n",
              "    .dataframe tbody tr th:only-of-type {\n",
              "        vertical-align: middle;\n",
              "    }\n",
              "\n",
              "    .dataframe tbody tr th {\n",
              "        vertical-align: top;\n",
              "    }\n",
              "\n",
              "    .dataframe thead th {\n",
              "        text-align: right;\n",
              "    }\n",
              "</style>\n",
              "<table border=\"1\" class=\"dataframe\">\n",
              "  <thead>\n",
              "    <tr style=\"text-align: right;\">\n",
              "      <th></th>\n",
              "      <th>clientid</th>\n",
              "      <th>income</th>\n",
              "      <th>age</th>\n",
              "      <th>loan</th>\n",
              "      <th>default</th>\n",
              "    </tr>\n",
              "  </thead>\n",
              "  <tbody>\n",
              "    <tr>\n",
              "      <th>count</th>\n",
              "      <td>2000.000000</td>\n",
              "      <td>2000.000000</td>\n",
              "      <td>1997.000000</td>\n",
              "      <td>2000.000000</td>\n",
              "      <td>2000.000000</td>\n",
              "    </tr>\n",
              "    <tr>\n",
              "      <th>mean</th>\n",
              "      <td>1000.500000</td>\n",
              "      <td>45331.600018</td>\n",
              "      <td>40.807559</td>\n",
              "      <td>4444.369695</td>\n",
              "      <td>0.141500</td>\n",
              "    </tr>\n",
              "    <tr>\n",
              "      <th>std</th>\n",
              "      <td>577.494589</td>\n",
              "      <td>14326.327119</td>\n",
              "      <td>13.624469</td>\n",
              "      <td>3045.410024</td>\n",
              "      <td>0.348624</td>\n",
              "    </tr>\n",
              "    <tr>\n",
              "      <th>min</th>\n",
              "      <td>1.000000</td>\n",
              "      <td>20014.489470</td>\n",
              "      <td>-52.423280</td>\n",
              "      <td>1.377630</td>\n",
              "      <td>0.000000</td>\n",
              "    </tr>\n",
              "    <tr>\n",
              "      <th>25%</th>\n",
              "      <td>500.750000</td>\n",
              "      <td>32796.459720</td>\n",
              "      <td>28.990415</td>\n",
              "      <td>1939.708847</td>\n",
              "      <td>0.000000</td>\n",
              "    </tr>\n",
              "    <tr>\n",
              "      <th>50%</th>\n",
              "      <td>1000.500000</td>\n",
              "      <td>45789.117310</td>\n",
              "      <td>41.317159</td>\n",
              "      <td>3974.719418</td>\n",
              "      <td>0.000000</td>\n",
              "    </tr>\n",
              "    <tr>\n",
              "      <th>75%</th>\n",
              "      <td>1500.250000</td>\n",
              "      <td>57791.281670</td>\n",
              "      <td>52.587040</td>\n",
              "      <td>6432.410625</td>\n",
              "      <td>0.000000</td>\n",
              "    </tr>\n",
              "    <tr>\n",
              "      <th>max</th>\n",
              "      <td>2000.000000</td>\n",
              "      <td>69995.685580</td>\n",
              "      <td>63.971796</td>\n",
              "      <td>13766.051240</td>\n",
              "      <td>1.000000</td>\n",
              "    </tr>\n",
              "  </tbody>\n",
              "</table>\n",
              "</div>"
            ],
            "text/plain": [
              "          clientid        income          age          loan      default\n",
              "count  2000.000000   2000.000000  1997.000000   2000.000000  2000.000000\n",
              "mean   1000.500000  45331.600018    40.807559   4444.369695     0.141500\n",
              "std     577.494589  14326.327119    13.624469   3045.410024     0.348624\n",
              "min       1.000000  20014.489470   -52.423280      1.377630     0.000000\n",
              "25%     500.750000  32796.459720    28.990415   1939.708847     0.000000\n",
              "50%    1000.500000  45789.117310    41.317159   3974.719418     0.000000\n",
              "75%    1500.250000  57791.281670    52.587040   6432.410625     0.000000\n",
              "max    2000.000000  69995.685580    63.971796  13766.051240     1.000000"
            ]
          },
          "metadata": {},
          "execution_count": 5
        }
      ]
    },
    {
      "cell_type": "code",
      "metadata": {
        "colab": {
          "base_uri": "https://localhost:8080/"
        },
        "id": "e2wNYmiYOmW5",
        "outputId": "640ad81f-5b69-4d49-eacd-a10d04733264"
      },
      "source": [
        "# Remove people who's age is smaller than 18, since people who's under the age limit(i.e. 18) cannot have jobs and income.\n",
        "bank_clean = bank[bank.loc[:,\"age\"]>=18]\n",
        "print(bank_clean.age.describe())\n",
        "print(bank_clean.describe())"
      ],
      "execution_count": null,
      "outputs": [
        {
          "output_type": "stream",
          "name": "stdout",
          "text": [
            "count    1994.000000\n",
            "mean       40.927700\n",
            "std        13.271802\n",
            "min        18.055189\n",
            "25%        29.043284\n",
            "50%        41.382673\n",
            "75%        52.616900\n",
            "max        63.971796\n",
            "Name: age, dtype: float64\n",
            "          clientid        income          age          loan      default\n",
            "count  1994.000000   1994.000000  1994.000000   1994.000000  1994.000000\n",
            "mean   1003.431795  45328.856915    40.927700   4443.240892     0.141926\n",
            "std     575.879624  14326.777212    13.271802   3046.879619     0.349062\n",
            "min       1.000000  20014.489470    18.055189      1.377630     0.000000\n",
            "25%     505.250000  32812.340053    29.043284   1934.218490     0.000000\n",
            "50%    1003.500000  45785.950925    41.382673   3971.653442     0.000000\n",
            "75%    1501.750000  57782.054535    52.616900   6438.044498     0.000000\n",
            "max    2000.000000  69995.685580    63.971796  13766.051240     1.000000\n"
          ]
        }
      ]
    },
    {
      "cell_type": "code",
      "metadata": {
        "colab": {
          "base_uri": "https://localhost:8080/"
        },
        "id": "llK2CG1DQDMt",
        "outputId": "fe7b1f92-c634-48e3-cabb-a91f72351438"
      },
      "source": [
        "# Remove meaningless columns(i.e. the Client ID)\n",
        "bank_clean = bank_clean.iloc[:,1:5]\n",
        "print(bank_clean)"
      ],
      "execution_count": null,
      "outputs": [
        {
          "output_type": "stream",
          "name": "stdout",
          "text": [
            "           income        age         loan  default\n",
            "0     66155.92510  59.017015  8106.532131        0\n",
            "1     34415.15397  48.117153  6564.745018        0\n",
            "2     57317.17006  63.108049  8020.953296        0\n",
            "3     42709.53420  45.751972  6103.642260        0\n",
            "4     66952.68885  18.584336  8770.099235        1\n",
            "...           ...        ...          ...      ...\n",
            "1995  59221.04487  48.518179  1926.729397        0\n",
            "1996  69516.12757  23.162104  3503.176156        0\n",
            "1997  44311.44926  28.017167  5522.786693        1\n",
            "1998  43756.05660  63.971796  1622.722598        0\n",
            "1999  69436.57955  56.152617  7378.833599        0\n",
            "\n",
            "[1994 rows x 4 columns]\n"
          ]
        }
      ]
    },
    {
      "cell_type": "code",
      "metadata": {
        "id": "UNkIbalsNT8E"
      },
      "source": [
        "# Drop NAs\n",
        "bank_clean = bank_clean.dropna()"
      ],
      "execution_count": null,
      "outputs": []
    },
    {
      "cell_type": "code",
      "metadata": {
        "colab": {
          "base_uri": "https://localhost:8080/"
        },
        "id": "TMdyq5r9N9u2",
        "outputId": "e310f627-f1e8-42f1-a72d-e3f5cd186967"
      },
      "source": [
        "bank_clean.isna().any()"
      ],
      "execution_count": null,
      "outputs": [
        {
          "output_type": "execute_result",
          "data": {
            "text/plain": [
              "income     False\n",
              "age        False\n",
              "loan       False\n",
              "default    False\n",
              "dtype: bool"
            ]
          },
          "metadata": {},
          "execution_count": 9
        }
      ]
    },
    {
      "cell_type": "code",
      "metadata": {
        "colab": {
          "base_uri": "https://localhost:8080/"
        },
        "id": "7ZRG5sSMZKnL",
        "outputId": "9752a62a-e4c9-4592-eabd-d4fd76ed6d02"
      },
      "source": [
        "# Drop NaN\n",
        "bank_clean.isnull().values.any()"
      ],
      "execution_count": null,
      "outputs": [
        {
          "output_type": "execute_result",
          "data": {
            "text/plain": [
              "False"
            ]
          },
          "metadata": {},
          "execution_count": 10
        }
      ]
    },
    {
      "cell_type": "code",
      "metadata": {
        "colab": {
          "base_uri": "https://localhost:8080/",
          "height": 297
        },
        "id": "pRJaYlKQSG2T",
        "outputId": "32b0ece7-0df9-4252-87d8-0e8646f63ef2"
      },
      "source": [
        "bank_clean.describe()"
      ],
      "execution_count": null,
      "outputs": [
        {
          "output_type": "execute_result",
          "data": {
            "text/html": [
              "<div>\n",
              "<style scoped>\n",
              "    .dataframe tbody tr th:only-of-type {\n",
              "        vertical-align: middle;\n",
              "    }\n",
              "\n",
              "    .dataframe tbody tr th {\n",
              "        vertical-align: top;\n",
              "    }\n",
              "\n",
              "    .dataframe thead th {\n",
              "        text-align: right;\n",
              "    }\n",
              "</style>\n",
              "<table border=\"1\" class=\"dataframe\">\n",
              "  <thead>\n",
              "    <tr style=\"text-align: right;\">\n",
              "      <th></th>\n",
              "      <th>income</th>\n",
              "      <th>age</th>\n",
              "      <th>loan</th>\n",
              "      <th>default</th>\n",
              "    </tr>\n",
              "  </thead>\n",
              "  <tbody>\n",
              "    <tr>\n",
              "      <th>count</th>\n",
              "      <td>1994.000000</td>\n",
              "      <td>1994.000000</td>\n",
              "      <td>1994.000000</td>\n",
              "      <td>1994.000000</td>\n",
              "    </tr>\n",
              "    <tr>\n",
              "      <th>mean</th>\n",
              "      <td>45328.856915</td>\n",
              "      <td>40.927700</td>\n",
              "      <td>4443.240892</td>\n",
              "      <td>0.141926</td>\n",
              "    </tr>\n",
              "    <tr>\n",
              "      <th>std</th>\n",
              "      <td>14326.777212</td>\n",
              "      <td>13.271802</td>\n",
              "      <td>3046.879619</td>\n",
              "      <td>0.349062</td>\n",
              "    </tr>\n",
              "    <tr>\n",
              "      <th>min</th>\n",
              "      <td>20014.489470</td>\n",
              "      <td>18.055189</td>\n",
              "      <td>1.377630</td>\n",
              "      <td>0.000000</td>\n",
              "    </tr>\n",
              "    <tr>\n",
              "      <th>25%</th>\n",
              "      <td>32812.340053</td>\n",
              "      <td>29.043284</td>\n",
              "      <td>1934.218490</td>\n",
              "      <td>0.000000</td>\n",
              "    </tr>\n",
              "    <tr>\n",
              "      <th>50%</th>\n",
              "      <td>45785.950925</td>\n",
              "      <td>41.382673</td>\n",
              "      <td>3971.653442</td>\n",
              "      <td>0.000000</td>\n",
              "    </tr>\n",
              "    <tr>\n",
              "      <th>75%</th>\n",
              "      <td>57782.054535</td>\n",
              "      <td>52.616900</td>\n",
              "      <td>6438.044498</td>\n",
              "      <td>0.000000</td>\n",
              "    </tr>\n",
              "    <tr>\n",
              "      <th>max</th>\n",
              "      <td>69995.685580</td>\n",
              "      <td>63.971796</td>\n",
              "      <td>13766.051240</td>\n",
              "      <td>1.000000</td>\n",
              "    </tr>\n",
              "  </tbody>\n",
              "</table>\n",
              "</div>"
            ],
            "text/plain": [
              "             income          age          loan      default\n",
              "count   1994.000000  1994.000000   1994.000000  1994.000000\n",
              "mean   45328.856915    40.927700   4443.240892     0.141926\n",
              "std    14326.777212    13.271802   3046.879619     0.349062\n",
              "min    20014.489470    18.055189      1.377630     0.000000\n",
              "25%    32812.340053    29.043284   1934.218490     0.000000\n",
              "50%    45785.950925    41.382673   3971.653442     0.000000\n",
              "75%    57782.054535    52.616900   6438.044498     0.000000\n",
              "max    69995.685580    63.971796  13766.051240     1.000000"
            ]
          },
          "metadata": {},
          "execution_count": 11
        }
      ]
    },
    {
      "cell_type": "code",
      "metadata": {
        "id": "5dIHabUpWTfS"
      },
      "source": [
        "# Normalization"
      ],
      "execution_count": null,
      "outputs": []
    },
    {
      "cell_type": "code",
      "metadata": {
        "colab": {
          "base_uri": "https://localhost:8080/"
        },
        "id": "EQuYTc3uWSwx",
        "outputId": "9025eb7e-5483-4e0f-eda1-0cc7ad8e0c8c"
      },
      "source": [
        "bank_clean[\"income\"]=stats.zscore(bank_clean[\"income\"].astype(np.float))\n",
        "print(bank_clean)"
      ],
      "execution_count": null,
      "outputs": [
        {
          "output_type": "stream",
          "name": "stdout",
          "text": [
            "        income        age         loan  default\n",
            "0     1.454081  59.017015  8106.532131        0\n",
            "1    -0.761961  48.117153  6564.745018        0\n",
            "2     0.836987  63.108049  8020.953296        0\n",
            "3    -0.182873  45.751972  6103.642260        0\n",
            "4     1.509708  18.584336  8770.099235        1\n",
            "...        ...        ...          ...      ...\n",
            "1995  0.969909  48.518179  1926.729397        0\n",
            "1996  1.688680  23.162104  3503.176156        0\n",
            "1997 -0.071032  28.017167  5522.786693        1\n",
            "1998 -0.109808  63.971796  1622.722598        0\n",
            "1999  1.683126  56.152617  7378.833599        0\n",
            "\n",
            "[1994 rows x 4 columns]\n"
          ]
        }
      ]
    },
    {
      "cell_type": "code",
      "metadata": {
        "colab": {
          "base_uri": "https://localhost:8080/"
        },
        "id": "AE1jjlwnWr9F",
        "outputId": "5eb1ba33-5877-4d1d-de1a-49462210fe92"
      },
      "source": [
        "bank_clean[\"loan\"]=stats.zscore(bank_clean[\"loan\"].astype(np.float))\n",
        "print(bank_clean)"
      ],
      "execution_count": null,
      "outputs": [
        {
          "output_type": "stream",
          "name": "stdout",
          "text": [
            "        income        age      loan  default\n",
            "0     1.454081  59.017015  1.202611        0\n",
            "1    -0.761961  48.117153  0.696462        0\n",
            "2     0.836987  63.108049  1.174516        0\n",
            "3    -0.182873  45.751972  0.545088        0\n",
            "4     1.509708  18.584336  1.420451        1\n",
            "...        ...        ...       ...      ...\n",
            "1995  0.969909  48.518179 -0.826138        0\n",
            "1996  1.688680  23.162104 -0.308611        0\n",
            "1997 -0.071032  28.017167  0.354401        1\n",
            "1998 -0.109808  63.971796 -0.925939        0\n",
            "1999  1.683126  56.152617  0.963717        0\n",
            "\n",
            "[1994 rows x 4 columns]\n"
          ]
        }
      ]
    },
    {
      "cell_type": "code",
      "metadata": {
        "id": "WfmWf7HrXPlY"
      },
      "source": [
        "# Remove Outlier"
      ],
      "execution_count": null,
      "outputs": []
    },
    {
      "cell_type": "code",
      "metadata": {
        "colab": {
          "base_uri": "https://localhost:8080/"
        },
        "id": "bJ78I0oxXRSL",
        "outputId": "5e56157b-4e86-46ee-adca-94c3e883f93d"
      },
      "source": [
        "z = stats.zscore(bank_clean.astype(np.float))\n",
        "print(z)\n",
        "abs_z = np.abs(z)\n",
        "filtered = (abs_z < 3).all(axis=1)\n",
        "bank_clean = bank_clean[filtered]\n",
        "\n",
        "print(bank_clean)  # Remain (1993, 4)"
      ],
      "execution_count": null,
      "outputs": [
        {
          "output_type": "stream",
          "name": "stdout",
          "text": [
            "[[ 1.45408086  1.36333045  1.20261074 -0.40669442]\n",
            " [-0.76196066  0.54184472  0.69646214 -0.40669442]\n",
            " [ 0.83698659  1.67165787  1.17451633 -0.40669442]\n",
            " ...\n",
            " [-0.07103223 -0.97302324  0.35440081  2.45884859]\n",
            " [-0.10980801  1.73675551 -0.92593938 -0.40669442]\n",
            " [ 1.68312591  1.14745046  0.9637168  -0.40669442]]\n",
            "        income        age      loan  default\n",
            "0     1.454081  59.017015  1.202611        0\n",
            "1    -0.761961  48.117153  0.696462        0\n",
            "2     0.836987  63.108049  1.174516        0\n",
            "3    -0.182873  45.751972  0.545088        0\n",
            "4     1.509708  18.584336  1.420451        1\n",
            "...        ...        ...       ...      ...\n",
            "1995  0.969909  48.518179 -0.826138        0\n",
            "1996  1.688680  23.162104 -0.308611        0\n",
            "1997 -0.071032  28.017167  0.354401        1\n",
            "1998 -0.109808  63.971796 -0.925939        0\n",
            "1999  1.683126  56.152617  0.963717        0\n",
            "\n",
            "[1993 rows x 4 columns]\n"
          ]
        }
      ]
    },
    {
      "cell_type": "code",
      "metadata": {
        "colab": {
          "base_uri": "https://localhost:8080/",
          "height": 297
        },
        "id": "p4m25Wl2aNHv",
        "outputId": "e2124cf8-2b32-4e1e-f592-82fe1ace6858"
      },
      "source": [
        "bank_clean.describe()\n",
        "# No categorical variables, so need not convert to dummy variables"
      ],
      "execution_count": null,
      "outputs": [
        {
          "output_type": "execute_result",
          "data": {
            "text/html": [
              "<div>\n",
              "<style scoped>\n",
              "    .dataframe tbody tr th:only-of-type {\n",
              "        vertical-align: middle;\n",
              "    }\n",
              "\n",
              "    .dataframe tbody tr th {\n",
              "        vertical-align: top;\n",
              "    }\n",
              "\n",
              "    .dataframe thead th {\n",
              "        text-align: right;\n",
              "    }\n",
              "</style>\n",
              "<table border=\"1\" class=\"dataframe\">\n",
              "  <thead>\n",
              "    <tr style=\"text-align: right;\">\n",
              "      <th></th>\n",
              "      <th>income</th>\n",
              "      <th>age</th>\n",
              "      <th>loan</th>\n",
              "      <th>default</th>\n",
              "    </tr>\n",
              "  </thead>\n",
              "  <tbody>\n",
              "    <tr>\n",
              "      <th>count</th>\n",
              "      <td>1993.000000</td>\n",
              "      <td>1993.000000</td>\n",
              "      <td>1993.000000</td>\n",
              "      <td>1993.000000</td>\n",
              "    </tr>\n",
              "    <tr>\n",
              "      <th>mean</th>\n",
              "      <td>-0.000856</td>\n",
              "      <td>40.925886</td>\n",
              "      <td>-0.001536</td>\n",
              "      <td>0.141997</td>\n",
              "    </tr>\n",
              "    <tr>\n",
              "      <th>std</th>\n",
              "      <td>0.999772</td>\n",
              "      <td>13.274886</td>\n",
              "      <td>0.998148</td>\n",
              "      <td>0.349135</td>\n",
              "    </tr>\n",
              "    <tr>\n",
              "      <th>min</th>\n",
              "      <td>-1.767370</td>\n",
              "      <td>18.055189</td>\n",
              "      <td>-1.458206</td>\n",
              "      <td>0.000000</td>\n",
              "    </tr>\n",
              "    <tr>\n",
              "      <th>25%</th>\n",
              "      <td>-0.874383</td>\n",
              "      <td>29.033679</td>\n",
              "      <td>-0.823963</td>\n",
              "      <td>0.000000</td>\n",
              "    </tr>\n",
              "    <tr>\n",
              "      <th>50%</th>\n",
              "      <td>0.031718</td>\n",
              "      <td>41.353171</td>\n",
              "      <td>-0.154979</td>\n",
              "      <td>0.000000</td>\n",
              "    </tr>\n",
              "    <tr>\n",
              "      <th>75%</th>\n",
              "      <td>0.868289</td>\n",
              "      <td>52.626853</td>\n",
              "      <td>0.652094</td>\n",
              "      <td>0.000000</td>\n",
              "    </tr>\n",
              "    <tr>\n",
              "      <th>max</th>\n",
              "      <td>1.722161</td>\n",
              "      <td>63.971796</td>\n",
              "      <td>2.954659</td>\n",
              "      <td>1.000000</td>\n",
              "    </tr>\n",
              "  </tbody>\n",
              "</table>\n",
              "</div>"
            ],
            "text/plain": [
              "            income          age         loan      default\n",
              "count  1993.000000  1993.000000  1993.000000  1993.000000\n",
              "mean     -0.000856    40.925886    -0.001536     0.141997\n",
              "std       0.999772    13.274886     0.998148     0.349135\n",
              "min      -1.767370    18.055189    -1.458206     0.000000\n",
              "25%      -0.874383    29.033679    -0.823963     0.000000\n",
              "50%       0.031718    41.353171    -0.154979     0.000000\n",
              "75%       0.868289    52.626853     0.652094     0.000000\n",
              "max       1.722161    63.971796     2.954659     1.000000"
            ]
          },
          "metadata": {},
          "execution_count": 17
        }
      ]
    },
    {
      "cell_type": "markdown",
      "metadata": {
        "id": "74SeRfXzXdtk"
      },
      "source": [
        "# **Check Correlation**"
      ]
    },
    {
      "cell_type": "code",
      "metadata": {
        "colab": {
          "base_uri": "https://localhost:8080/"
        },
        "id": "cHR6fn-oXgrc",
        "outputId": "30c975f1-1cc8-4822-b46b-14ab3e1bde71"
      },
      "source": [
        "bank_clean.corr()"
      ],
      "execution_count": null,
      "outputs": [
        {
          "output_type": "execute_result",
          "data": {
            "text/html": [
              "<div>\n",
              "<style scoped>\n",
              "    .dataframe tbody tr th:only-of-type {\n",
              "        vertical-align: middle;\n",
              "    }\n",
              "\n",
              "    .dataframe tbody tr th {\n",
              "        vertical-align: top;\n",
              "    }\n",
              "\n",
              "    .dataframe thead th {\n",
              "        text-align: right;\n",
              "    }\n",
              "</style>\n",
              "<table border=\"1\" class=\"dataframe\">\n",
              "  <thead>\n",
              "    <tr style=\"text-align: right;\">\n",
              "      <th></th>\n",
              "      <th>income</th>\n",
              "      <th>age</th>\n",
              "      <th>loan</th>\n",
              "      <th>default</th>\n",
              "    </tr>\n",
              "  </thead>\n",
              "  <tbody>\n",
              "    <tr>\n",
              "      <th>income</th>\n",
              "      <td>1.000000</td>\n",
              "      <td>-0.033514</td>\n",
              "      <td>0.439811</td>\n",
              "      <td>0.002716</td>\n",
              "    </tr>\n",
              "    <tr>\n",
              "      <th>age</th>\n",
              "      <td>-0.033514</td>\n",
              "      <td>1.000000</td>\n",
              "      <td>0.006282</td>\n",
              "      <td>-0.445219</td>\n",
              "    </tr>\n",
              "    <tr>\n",
              "      <th>loan</th>\n",
              "      <td>0.439811</td>\n",
              "      <td>0.006282</td>\n",
              "      <td>1.000000</td>\n",
              "      <td>0.379322</td>\n",
              "    </tr>\n",
              "    <tr>\n",
              "      <th>default</th>\n",
              "      <td>0.002716</td>\n",
              "      <td>-0.445219</td>\n",
              "      <td>0.379322</td>\n",
              "      <td>1.000000</td>\n",
              "    </tr>\n",
              "  </tbody>\n",
              "</table>\n",
              "</div>"
            ],
            "text/plain": [
              "           income       age      loan   default\n",
              "income   1.000000 -0.033514  0.439811  0.002716\n",
              "age     -0.033514  1.000000  0.006282 -0.445219\n",
              "loan     0.439811  0.006282  1.000000  0.379322\n",
              "default  0.002716 -0.445219  0.379322  1.000000"
            ]
          },
          "metadata": {},
          "execution_count": 18
        }
      ]
    },
    {
      "cell_type": "code",
      "metadata": {
        "id": "4QCcAy8PX5s4"
      },
      "source": [
        "# pip install seaborn"
      ],
      "execution_count": null,
      "outputs": []
    },
    {
      "cell_type": "code",
      "metadata": {
        "colab": {
          "base_uri": "https://localhost:8080/"
        },
        "id": "NGe5mfYKXtcM",
        "outputId": "bcc418a8-a91d-4bc5-e970-d7b33b179a56"
      },
      "source": [
        "import seaborn as sns\n",
        "sns.heatmap(bank_clean.corr())"
      ],
      "execution_count": null,
      "outputs": [
        {
          "output_type": "execute_result",
          "data": {
            "text/plain": [
              "<matplotlib.axes._subplots.AxesSubplot at 0x7f209fa77b10>"
            ]
          },
          "metadata": {},
          "execution_count": 20
        },
        {
          "output_type": "display_data",
          "data": {
            "image/png": "[encoded data removed]",
            "text/plain": [
              "<Figure size 432x288 with 2 Axes>"
            ]
          },
          "metadata": {
            "needs_background": "light"
          }
        }
      ]
    },
    {
      "cell_type": "code",
      "metadata": {
        "colab": {
          "base_uri": "https://localhost:8080/"
        },
        "id": "HxuueOJMaZrb",
        "outputId": "592ec29b-21bb-4648-e644-e93eab6375b3"
      },
      "source": [
        "X = bank_clean.iloc[:, 0:3]\n",
        "Y = bank_clean.iloc[:, 3]\n",
        "print(X,Y)"
      ],
      "execution_count": null,
      "outputs": [
        {
          "output_type": "stream",
          "name": "stdout",
          "text": [
            "        income        age      loan\n",
            "0     1.454081  59.017015  1.202611\n",
            "1    -0.761961  48.117153  0.696462\n",
            "2     0.836987  63.108049  1.174516\n",
            "3    -0.182873  45.751972  0.545088\n",
            "4     1.509708  18.584336  1.420451\n",
            "...        ...        ...       ...\n",
            "1995  0.969909  48.518179 -0.826138\n",
            "1996  1.688680  23.162104 -0.308611\n",
            "1997 -0.071032  28.017167  0.354401\n",
            "1998 -0.109808  63.971796 -0.925939\n",
            "1999  1.683126  56.152617  0.963717\n",
            "\n",
            "[1993 rows x 3 columns] 0       0\n",
            "1       0\n",
            "2       0\n",
            "3       0\n",
            "4       1\n",
            "       ..\n",
            "1995    0\n",
            "1996    0\n",
            "1997    1\n",
            "1998    0\n",
            "1999    0\n",
            "Name: default, Length: 1993, dtype: int64\n"
          ]
        }
      ]
    },
    {
      "cell_type": "markdown",
      "metadata": {
        "id": "RpcMrPT8VAA7"
      },
      "source": [
        "# **Train-Test Split**"
      ]
    },
    {
      "cell_type": "code",
      "metadata": {
        "id": "qfHG0a8CNGh9"
      },
      "source": [
        "from sklearn.model_selection import train_test_split"
      ],
      "execution_count": null,
      "outputs": []
    },
    {
      "cell_type": "code",
      "metadata": {
        "id": "Ku2q6HYfTBKy"
      },
      "source": [
        "# Split the data into 70% train set and 30% test set\n",
        "np.random.seed(6001)\n",
        "X_train, X_test, Y_train, Y_test = train_test_split(X,Y, test_size=0.3)"
      ],
      "execution_count": null,
      "outputs": []
    },
    {
      "cell_type": "code",
      "metadata": {
        "colab": {
          "base_uri": "https://localhost:8080/"
        },
        "id": "RBNlZ38fUkMR",
        "outputId": "4ac1b934-b439-47b0-b4bc-f75c544d08ee"
      },
      "source": [
        "print(X_train, X_test, Y_train, Y_test)"
      ],
      "execution_count": null,
      "outputs": [
        {
          "output_type": "stream",
          "name": "stdout",
          "text": [
            "        income        age      loan\n",
            "155   0.444084  46.154192  1.785466\n",
            "798  -0.097160  56.409682 -0.403694\n",
            "676  -0.250828  34.596492  1.037181\n",
            "1000  0.381514  41.601886 -1.320239\n",
            "1757  1.375536  36.700691 -0.725929\n",
            "...        ...        ...       ...\n",
            "1672  1.447000  39.077139  1.929624\n",
            "1652 -1.497367  32.893710 -1.067790\n",
            "293  -0.954483  37.778664 -0.983275\n",
            "1434  1.305624  36.157751 -0.918843\n",
            "498   0.264322  61.481523  0.638718\n",
            "\n",
            "[1395 rows x 3 columns]         income        age      loan\n",
            "616   0.283897  41.084909  0.487287\n",
            "1904  0.188660  43.670164  1.110623\n",
            "1540 -0.401832  29.137026  0.440772\n",
            "495   0.175845  26.651838  1.329817\n",
            "365  -0.915023  61.810616 -1.151881\n",
            "...        ...        ...       ...\n",
            "328  -0.634385  39.415471  0.408965\n",
            "1400 -0.077259  55.861472  0.984942\n",
            "1358  0.215991  41.854248 -0.302902\n",
            "188   0.910105  55.596549  0.448656\n",
            "1552  0.762902  22.160503  0.331243\n",
            "\n",
            "[598 rows x 3 columns] 155     0\n",
            "798     0\n",
            "676     1\n",
            "1000    0\n",
            "1757    0\n",
            "       ..\n",
            "1672    0\n",
            "1652    0\n",
            "293     0\n",
            "1434    0\n",
            "498     0\n",
            "Name: default, Length: 1395, dtype: int64 616     0\n",
            "1904    0\n",
            "1540    1\n",
            "495     1\n",
            "365     0\n",
            "       ..\n",
            "328     0\n",
            "1400    0\n",
            "1358    0\n",
            "188     0\n",
            "1552    0\n",
            "Name: default, Length: 598, dtype: int64\n"
          ]
        }
      ]
    },
    {
      "cell_type": "code",
      "metadata": {
        "colab": {
          "base_uri": "https://localhost:8080/",
          "height": 350
        },
        "id": "ULMHseAeVKaF",
        "outputId": "d61fa185-149d-44e9-b775-61d0b7659e6d"
      },
      "source": [
        "# Check whether the dependent variable of train dataset is balanced or not\n",
        "sns.countplot(Y_train)\n",
        "# Imbalanced, needs resampling"
      ],
      "execution_count": null,
      "outputs": [
        {
          "output_type": "stream",
          "name": "stderr",
          "text": [
            "/usr/local/lib/python3.7/dist-packages/seaborn/_decorators.py:43: FutureWarning: Pass the following variable as a keyword arg: x. From version 0.12, the only valid positional argument will be `data`, and passing other arguments without an explicit keyword will result in an error or misinterpretation.\n",
            "  FutureWarning\n"
          ]
        },
        {
          "output_type": "execute_result",
          "data": {
            "text/plain": [
              "<matplotlib.axes._subplots.AxesSubplot at 0x7f2089571d90>"
            ]
          },
          "metadata": {},
          "execution_count": 75
        },
        {
          "output_type": "display_data",
          "data": {
            "image/png": "[encoded data removed]",
            "text/plain": [
              "<Figure size 432x288 with 1 Axes>"
            ]
          },
          "metadata": {
            "needs_background": "light"
          }
        }
      ]
    },
    {
      "cell_type": "code",
      "metadata": {
        "colab": {
          "base_uri": "https://localhost:8080/"
        },
        "id": "KdT9O56vk8Uv",
        "outputId": "aacd7315-7036-420e-99f4-bbae0d84811f"
      },
      "source": [
        "Y1_num = Y_train[Y_train.iloc[:]==1].count()\n",
        "Y0_num = Y_train[Y_train.iloc[:]==0].count()\n",
        "print(round(Y1_num/(Y0_num+Y1_num),4))\n",
        "print(round(Y0_num/(Y0_num+Y1_num),4))\n",
        "# The original proportion of default rate in the train dataset is 15.05%\n",
        "# The Non-default rate in the train dataset is 84.95%\n",
        "# The train set data requires resampling"
      ],
      "execution_count": null,
      "outputs": [
        {
          "output_type": "stream",
          "name": "stdout",
          "text": [
            "0.1505\n",
            "0.8495\n"
          ]
        }
      ]
    },
    {
      "cell_type": "code",
      "metadata": {
        "colab": {
          "base_uri": "https://localhost:8080/",
          "height": 370
        },
        "id": "PKvtqgdDX3B2",
        "outputId": "3033ad95-6abf-4df2-8360-2c2157b15a5e"
      },
      "source": [
        "## Oversampling\n",
        "from imblearn.over_sampling import RandomOverSampler\n",
        "\n",
        "os = RandomOverSampler(random_state=6001)\n",
        "os.fit(X_train, Y_train)\n",
        "X_resampled, Y_resampled = os.fit_resample(X_train, Y_train)\n",
        "sns.countplot(Y_resampled)\n",
        "# Now the train dataset is balanced"
      ],
      "execution_count": null,
      "outputs": [
        {
          "output_type": "stream",
          "name": "stderr",
          "text": [
            "/usr/local/lib/python3.7/dist-packages/sklearn/utils/deprecation.py:87: FutureWarning: Function safe_indexing is deprecated; safe_indexing is deprecated in version 0.22 and will be removed in version 0.24.\n",
            "  warnings.warn(msg, category=FutureWarning)\n",
            "/usr/local/lib/python3.7/dist-packages/seaborn/_decorators.py:43: FutureWarning: Pass the following variable as a keyword arg: x. From version 0.12, the only valid positional argument will be `data`, and passing other arguments without an explicit keyword will result in an error or misinterpretation.\n",
            "  FutureWarning\n"
          ]
        },
        {
          "output_type": "execute_result",
          "data": {
            "text/plain": [
              "<matplotlib.axes._subplots.AxesSubplot at 0x7f208e05ed90>"
            ]
          },
          "metadata": {},
          "execution_count": 77
        },
        {
          "output_type": "display_data",
          "data": {
            "image/png": "[encoded data removed]",
            "text/plain": [
              "<Figure size 432x288 with 1 Axes>"
            ]
          },
          "metadata": {
            "needs_background": "light"
          }
        }
      ]
    },
    {
      "cell_type": "code",
      "metadata": {
        "id": "LI3z9csoTfaK"
      },
      "source": [
        "X_resampled = pd.DataFrame(X_resampled)\n",
        "Y_resampled = pd.DataFrame(Y_resampled)"
      ],
      "execution_count": null,
      "outputs": []
    },
    {
      "cell_type": "code",
      "metadata": {
        "id": "i1fCIVo_TSt9"
      },
      "source": [
        "XY_resampled = pd.concat([X_resampled,Y_resampled], axis=1)"
      ],
      "execution_count": null,
      "outputs": []
    },
    {
      "cell_type": "markdown",
      "metadata": {
        "id": "M-4spX7HHS31"
      },
      "source": [
        "# **Modelling**"
      ]
    },
    {
      "cell_type": "markdown",
      "metadata": {
        "id": "BLlQYeycVdYb"
      },
      "source": [
        "# **NN**"
      ]
    },
    {
      "cell_type": "markdown",
      "metadata": {
        "id": "3KaJ89wKIlQu"
      },
      "source": [
        "I used 5-fold cross validation to adjust the hyperparameters in neural network model, which are \"optimizer\" and \"loss function\".\n",
        "Based on the validation result, among the two loss functions: hinge and binary_crossentropy, and the four optimizers: Adam, Adamax, SGD, Nadam, the set of (\"binary_crossentropy\", \"Nadam\") has the highest mean accuracy. Thus, I set them as the optimal NN model and fit in the test data.\n",
        "\n",
        "The confusion matrix and the performance report showed that test set accuracy was 90%. Since in credit default scenario, we consider more on whether we missed to predict people who default in reality, we fucos more on recall rate.\n",
        "The test set performance report showed the recall rate of NN model was 99%, which means that we did not miss to predict people who actually default."
      ]
    },
    {
      "cell_type": "code",
      "metadata": {
        "id": "ycVtfTTGTElw"
      },
      "source": [
        "from keras.models import Sequential\n",
        "from keras.layers import Dense, Dropout\n",
        "from sklearn.metrics import confusion_matrix, classification_report\n",
        "from sklearn.model_selection import KFold\n",
        "\n",
        "np.random.seed(6001)"
      ],
      "execution_count": null,
      "outputs": []
    },
    {
      "cell_type": "code",
      "metadata": {
        "id": "xT4V7J3WO-eS"
      },
      "source": [
        "import matplotlib.pyplot as plt"
      ],
      "execution_count": null,
      "outputs": []
    },
    {
      "cell_type": "code",
      "metadata": {
        "colab": {
          "base_uri": "https://localhost:8080/"
        },
        "id": "QFRfB_9Bj8Y0",
        "outputId": "f26cd582-a0a2-4423-c8be-774f59c5c534"
      },
      "source": [
        "# 5-fold Cross Validation\n",
        "kf = KFold(n_splits=5, random_state=6001, shuffle=True)"
      ],
      "execution_count": null,
      "outputs": [
        {
          "output_type": "execute_result",
          "data": {
            "text/plain": [
              "KFold(n_splits=5, random_state=6001, shuffle=True)"
            ]
          },
          "metadata": {},
          "execution_count": 83
        }
      ]
    },
    {
      "cell_type": "code",
      "metadata": {
        "colab": {
          "base_uri": "https://localhost:8080/",
          "height": 1000
        },
        "id": "TD317zv_FS7W",
        "outputId": "c4b632b2-9c6f-4f9c-cbc5-e92490d095cf"
      },
      "source": [
        "fold_no = 1\n",
        "loss_per_fold =[]\n",
        "acc_per_fold = []\n",
        "np.random.seed(6001)\n",
        "\n",
        "for trainIndex, validIndex in kf.split(XY_resampled):\n",
        "  # Define the model \n",
        "  model_NN = Sequential()\n",
        "\n",
        "  model_NN.add(Dense(10, input_dim=3, activation = \"relu\"))\n",
        "  model_NN.add(Dropout(0.2))\n",
        "\n",
        "  model_NN.add(Dense(8, activation = \"relu\"))\n",
        "  model_NN.add(Dropout(0.3))\n",
        "\n",
        "  model_NN.add(Dense(6, activation = \"relu\"))\n",
        "  model_NN.add(Dropout(0.3))\n",
        "\n",
        "  model_NN.add(Dense(1, activation = \"sigmoid\"))\n",
        "\n",
        "  model_NN.compile(loss = 'binary_crossentropy', optimizer = \"Nadam\", metrics = [\"accuracy\"]) \n",
        "  # After using 5-fold cross validation, I compared two different loss function(hinge, binary_crossentropy) and \n",
        "  # four different optimizers (Adam, Adamax, SGD, Nadam) and found the highest mean accuracy- \"Nadam\" and \"binary_crossentropy\"\n",
        "\n",
        "  print('-'*50)\n",
        "  print(f'Training for fold {fold_no} ...')\n",
        "\n",
        "  # Fit training data and validation data to model\n",
        "  history = model_NN.fit(XY_resampled.iloc[trainIndex,0:3], XY_resampled.iloc[trainIndex,3],\n",
        "              batch_size=32, epochs=30, verbose=1,\n",
        "              validation_data=(XY_resampled.iloc[validIndex, 0:3], XY_resampled.iloc[validIndex,3]))\n",
        "\n",
        "  # Evaluate the model (Loss & Accuracy) by validation data\n",
        "  scores = model_NN.evaluate(XY_resampled.iloc[validIndex,0:3], XY_resampled.iloc[validIndex, 3], verbose=1)\n",
        "  print(f'Score for fold {fold_no}: {model_NN.metrics_names[0]} of {scores[0]}; {model_NN.metrics_names[1]} of {scores[1]*100}%')\n",
        "  acc_per_fold.append(scores[1] * 100)\n",
        "  loss_per_fold.append(scores[0])\n",
        "\n",
        "  # plot the Accuracy of training and validation in each epoch\n",
        "  plt.plot(history.history['accuracy'])\n",
        "  plt.plot(history.history['val_accuracy'])\n",
        "  plt.title('Model Accuracy')\n",
        "  plt.ylabel('Accuracy')\n",
        "  plt.xlabel('Epoch')\n",
        "  plt.legend(['train', 'valid'], loc='upper left')\n",
        "  plt.show()\n",
        "\n",
        "  fold_no = fold_no + 1"
      ],
      "execution_count": null,
      "outputs": [
        {
          "output_type": "stream",
          "name": "stdout",
          "text": [
            "--------------------------------------------------\n",
            "Training for fold 1 ...\n",
            "Epoch 1/30\n",
            "60/60 [==============================] - 2s 5ms/step - loss: 1.0005 - accuracy: 0.5137 - val_loss: 0.6801 - val_accuracy: 0.5190\n",
            "Epoch 2/30\n",
            "60/60 [==============================] - 0s 2ms/step - loss: 0.7796 - accuracy: 0.4937 - val_loss: 0.6817 - val_accuracy: 0.5190\n",
            "Epoch 3/30\n",
            "60/60 [==============================] - 0s 2ms/step - loss: 0.7386 - accuracy: 0.4889 - val_loss: 0.6754 - val_accuracy: 0.5190\n",
            "Epoch 4/30\n",
            "60/60 [==============================] - 0s 3ms/step - loss: 0.7020 - accuracy: 0.5084 - val_loss: 0.6718 - val_accuracy: 0.5274\n",
            "Epoch 5/30\n",
            "60/60 [==============================] - 0s 2ms/step - loss: 0.6937 - accuracy: 0.5090 - val_loss: 0.6690 - val_accuracy: 0.5422\n",
            "Epoch 6/30\n",
            "60/60 [==============================] - 0s 2ms/step - loss: 0.6965 - accuracy: 0.5084 - val_loss: 0.6670 - val_accuracy: 0.5970\n",
            "Epoch 7/30\n",
            "60/60 [==============================] - 0s 2ms/step - loss: 0.6903 - accuracy: 0.4984 - val_loss: 0.6648 - val_accuracy: 0.6139\n",
            "Epoch 8/30\n",
            "60/60 [==============================] - 0s 2ms/step - loss: 0.6716 - accuracy: 0.5274 - val_loss: 0.6597 - val_accuracy: 0.6055\n",
            "Epoch 9/30\n",
            "60/60 [==============================] - 0s 3ms/step - loss: 0.6846 - accuracy: 0.5058 - val_loss: 0.6603 - val_accuracy: 0.6730\n",
            "Epoch 10/30\n",
            "60/60 [==============================] - 0s 2ms/step - loss: 0.6697 - accuracy: 0.5195 - val_loss: 0.6565 - val_accuracy: 0.6730\n",
            "Epoch 11/30\n",
            "60/60 [==============================] - 0s 2ms/step - loss: 0.6698 - accuracy: 0.5301 - val_loss: 0.6570 - val_accuracy: 0.7911\n",
            "Epoch 12/30\n",
            "60/60 [==============================] - 0s 2ms/step - loss: 0.6687 - accuracy: 0.5195 - val_loss: 0.6559 - val_accuracy: 0.8101\n",
            "Epoch 13/30\n",
            "60/60 [==============================] - 0s 3ms/step - loss: 0.6697 - accuracy: 0.5206 - val_loss: 0.6562 - val_accuracy: 0.8439\n",
            "Epoch 14/30\n",
            "60/60 [==============================] - 0s 3ms/step - loss: 0.6606 - accuracy: 0.5422 - val_loss: 0.6493 - val_accuracy: 0.8143\n",
            "Epoch 15/30\n",
            "60/60 [==============================] - 0s 2ms/step - loss: 0.6583 - accuracy: 0.5374 - val_loss: 0.6498 - val_accuracy: 0.8418\n",
            "Epoch 16/30\n",
            "60/60 [==============================] - 0s 3ms/step - loss: 0.6602 - accuracy: 0.5469 - val_loss: 0.6470 - val_accuracy: 0.8376\n",
            "Epoch 17/30\n",
            "60/60 [==============================] - 0s 2ms/step - loss: 0.6534 - accuracy: 0.5491 - val_loss: 0.6490 - val_accuracy: 0.7890\n",
            "Epoch 18/30\n",
            "60/60 [==============================] - 0s 2ms/step - loss: 0.6519 - accuracy: 0.5738 - val_loss: 0.6417 - val_accuracy: 0.8101\n",
            "Epoch 19/30\n",
            "60/60 [==============================] - 0s 2ms/step - loss: 0.6474 - accuracy: 0.5665 - val_loss: 0.6363 - val_accuracy: 0.8291\n",
            "Epoch 20/30\n",
            "60/60 [==============================] - 0s 2ms/step - loss: 0.6435 - accuracy: 0.5807 - val_loss: 0.6308 - val_accuracy: 0.8418\n",
            "Epoch 21/30\n",
            "60/60 [==============================] - 0s 2ms/step - loss: 0.6383 - accuracy: 0.5881 - val_loss: 0.6277 - val_accuracy: 0.8186\n",
            "Epoch 22/30\n",
            "60/60 [==============================] - 0s 2ms/step - loss: 0.6351 - accuracy: 0.6113 - val_loss: 0.6178 - val_accuracy: 0.8481\n",
            "Epoch 23/30\n",
            "60/60 [==============================] - 0s 2ms/step - loss: 0.6154 - accuracy: 0.6308 - val_loss: 0.6087 - val_accuracy: 0.8523\n",
            "Epoch 24/30\n",
            "60/60 [==============================] - 0s 3ms/step - loss: 0.6141 - accuracy: 0.6429 - val_loss: 0.6036 - val_accuracy: 0.8333\n",
            "Epoch 25/30\n",
            "60/60 [==============================] - 0s 3ms/step - loss: 0.6012 - accuracy: 0.6682 - val_loss: 0.5892 - val_accuracy: 0.8629\n",
            "Epoch 26/30\n",
            "60/60 [==============================] - 0s 3ms/step - loss: 0.6115 - accuracy: 0.6435 - val_loss: 0.5851 - val_accuracy: 0.8544\n",
            "Epoch 27/30\n",
            "60/60 [==============================] - 0s 2ms/step - loss: 0.5940 - accuracy: 0.6762 - val_loss: 0.5813 - val_accuracy: 0.8270\n",
            "Epoch 28/30\n",
            "60/60 [==============================] - 0s 2ms/step - loss: 0.5876 - accuracy: 0.6830 - val_loss: 0.5439 - val_accuracy: 0.8924\n",
            "Epoch 29/30\n",
            "60/60 [==============================] - 0s 3ms/step - loss: 0.5852 - accuracy: 0.6735 - val_loss: 0.5283 - val_accuracy: 0.8713\n",
            "Epoch 30/30\n",
            "60/60 [==============================] - 0s 2ms/step - loss: 0.5668 - accuracy: 0.7009 - val_loss: 0.5027 - val_accuracy: 0.9093\n",
            "15/15 [==============================] - 0s 1ms/step - loss: 0.5027 - accuracy: 0.9093\n",
            "Score for fold 1: loss of 0.5026978850364685; accuracy of 90.92826843261719%\n"
          ]
        },
        {
          "output_type": "display_data",
          "data": {
            "image/png": "[encoded data removed]",
            "text/plain": [
              "<Figure size 432x288 with 1 Axes>"
            ]
          },
          "metadata": {
            "needs_background": "light"
          }
        },
        {
          "output_type": "stream",
          "name": "stdout",
          "text": [
            "--------------------------------------------------\n",
            "Training for fold 2 ...\n",
            "Epoch 1/30\n",
            "60/60 [==============================] - 1s 5ms/step - loss: 1.3207 - accuracy: 0.4963 - val_loss: 0.6546 - val_accuracy: 0.5105\n",
            "Epoch 2/30\n",
            "60/60 [==============================] - 0s 3ms/step - loss: 0.8357 - accuracy: 0.4958 - val_loss: 0.6822 - val_accuracy: 0.4620\n",
            "Epoch 3/30\n",
            "60/60 [==============================] - 0s 3ms/step - loss: 0.7333 - accuracy: 0.5258 - val_loss: 0.6799 - val_accuracy: 0.7932\n",
            "Epoch 4/30\n",
            "60/60 [==============================] - 0s 2ms/step - loss: 0.7100 - accuracy: 0.5311 - val_loss: 0.6739 - val_accuracy: 0.8819\n",
            "Epoch 5/30\n",
            "60/60 [==============================] - 0s 2ms/step - loss: 0.6978 - accuracy: 0.5327 - val_loss: 0.6672 - val_accuracy: 0.8059\n",
            "Epoch 6/30\n",
            "60/60 [==============================] - 0s 2ms/step - loss: 0.6874 - accuracy: 0.5190 - val_loss: 0.6674 - val_accuracy: 0.8840\n",
            "Epoch 7/30\n",
            "60/60 [==============================] - 0s 2ms/step - loss: 0.6881 - accuracy: 0.5174 - val_loss: 0.6606 - val_accuracy: 0.8291\n",
            "Epoch 8/30\n",
            "60/60 [==============================] - 0s 3ms/step - loss: 0.6778 - accuracy: 0.5311 - val_loss: 0.6577 - val_accuracy: 0.8439\n",
            "Epoch 9/30\n",
            "60/60 [==============================] - 0s 3ms/step - loss: 0.6656 - accuracy: 0.5591 - val_loss: 0.6598 - val_accuracy: 0.8460\n",
            "Epoch 10/30\n",
            "60/60 [==============================] - 0s 3ms/step - loss: 0.6639 - accuracy: 0.5649 - val_loss: 0.6582 - val_accuracy: 0.8122\n",
            "Epoch 11/30\n",
            "60/60 [==============================] - 0s 3ms/step - loss: 0.6547 - accuracy: 0.5860 - val_loss: 0.6519 - val_accuracy: 0.8460\n",
            "Epoch 12/30\n",
            "60/60 [==============================] - 0s 2ms/step - loss: 0.6564 - accuracy: 0.6007 - val_loss: 0.6490 - val_accuracy: 0.8249\n",
            "Epoch 13/30\n",
            "60/60 [==============================] - 0s 2ms/step - loss: 0.6522 - accuracy: 0.5944 - val_loss: 0.6439 - val_accuracy: 0.8270\n",
            "Epoch 14/30\n",
            "60/60 [==============================] - 0s 2ms/step - loss: 0.6449 - accuracy: 0.6044 - val_loss: 0.6381 - val_accuracy: 0.8312\n",
            "Epoch 15/30\n",
            "60/60 [==============================] - 0s 3ms/step - loss: 0.6394 - accuracy: 0.6023 - val_loss: 0.6332 - val_accuracy: 0.7911\n",
            "Epoch 16/30\n",
            "60/60 [==============================] - 0s 2ms/step - loss: 0.6384 - accuracy: 0.6065 - val_loss: 0.6178 - val_accuracy: 0.8481\n",
            "Epoch 17/30\n",
            "60/60 [==============================] - 0s 2ms/step - loss: 0.6269 - accuracy: 0.6176 - val_loss: 0.6186 - val_accuracy: 0.7827\n",
            "Epoch 18/30\n",
            "60/60 [==============================] - 0s 2ms/step - loss: 0.6154 - accuracy: 0.6577 - val_loss: 0.6086 - val_accuracy: 0.7932\n",
            "Epoch 19/30\n",
            "60/60 [==============================] - 0s 3ms/step - loss: 0.6076 - accuracy: 0.6540 - val_loss: 0.5941 - val_accuracy: 0.8017\n",
            "Epoch 20/30\n",
            "60/60 [==============================] - 0s 2ms/step - loss: 0.5930 - accuracy: 0.6904 - val_loss: 0.5745 - val_accuracy: 0.8376\n",
            "Epoch 21/30\n",
            "60/60 [==============================] - 0s 3ms/step - loss: 0.5917 - accuracy: 0.6835 - val_loss: 0.5568 - val_accuracy: 0.8481\n",
            "Epoch 22/30\n",
            "60/60 [==============================] - 0s 2ms/step - loss: 0.5674 - accuracy: 0.7178 - val_loss: 0.5455 - val_accuracy: 0.8397\n",
            "Epoch 23/30\n",
            "60/60 [==============================] - 0s 2ms/step - loss: 0.5523 - accuracy: 0.7342 - val_loss: 0.5332 - val_accuracy: 0.8460\n",
            "Epoch 24/30\n",
            "60/60 [==============================] - 0s 2ms/step - loss: 0.5395 - accuracy: 0.7495 - val_loss: 0.5023 - val_accuracy: 0.8565\n",
            "Epoch 25/30\n",
            "60/60 [==============================] - 0s 3ms/step - loss: 0.5274 - accuracy: 0.7648 - val_loss: 0.4710 - val_accuracy: 0.8903\n",
            "Epoch 26/30\n",
            "60/60 [==============================] - 0s 2ms/step - loss: 0.5140 - accuracy: 0.7732 - val_loss: 0.4512 - val_accuracy: 0.8882\n",
            "Epoch 27/30\n",
            "60/60 [==============================] - 0s 2ms/step - loss: 0.4937 - accuracy: 0.7832 - val_loss: 0.4700 - val_accuracy: 0.8502\n",
            "Epoch 28/30\n",
            "60/60 [==============================] - 0s 2ms/step - loss: 0.4970 - accuracy: 0.7674 - val_loss: 0.4184 - val_accuracy: 0.8966\n",
            "Epoch 29/30\n",
            "60/60 [==============================] - 0s 2ms/step - loss: 0.4787 - accuracy: 0.7890 - val_loss: 0.4112 - val_accuracy: 0.8945\n",
            "Epoch 30/30\n",
            "60/60 [==============================] - 0s 2ms/step - loss: 0.4689 - accuracy: 0.8033 - val_loss: 0.3722 - val_accuracy: 0.9114\n",
            "15/15 [==============================] - 0s 1ms/step - loss: 0.3722 - accuracy: 0.9114\n",
            "Score for fold 2: loss of 0.3722006380558014; accuracy of 91.13923907279968%\n"
          ]
        },
        {
          "output_type": "display_data",
          "data": {
            "image/png": "[encoded data removed]",
            "text/plain": [
              "<Figure size 432x288 with 1 Axes>"
            ]
          },
          "metadata": {
            "needs_background": "light"
          }
        },
        {
          "output_type": "stream",
          "name": "stdout",
          "text": [
            "--------------------------------------------------\n",
            "Training for fold 3 ...\n",
            "Epoch 1/30\n",
            "60/60 [==============================] - 1s 5ms/step - loss: 1.0693 - accuracy: 0.5174 - val_loss: 0.6670 - val_accuracy: 0.4916\n",
            "Epoch 2/30\n",
            "60/60 [==============================] - 0s 3ms/step - loss: 0.8272 - accuracy: 0.5195 - val_loss: 0.6674 - val_accuracy: 0.4916\n",
            "Epoch 3/30\n",
            "60/60 [==============================] - 0s 2ms/step - loss: 0.7516 - accuracy: 0.5206 - val_loss: 0.6692 - val_accuracy: 0.4852\n",
            "Epoch 4/30\n",
            "60/60 [==============================] - 0s 3ms/step - loss: 0.7132 - accuracy: 0.5116 - val_loss: 0.6713 - val_accuracy: 0.5928\n",
            "Epoch 5/30\n",
            "60/60 [==============================] - 0s 3ms/step - loss: 0.6828 - accuracy: 0.5274 - val_loss: 0.6706 - val_accuracy: 0.7046\n",
            "Epoch 6/30\n",
            "60/60 [==============================] - 0s 2ms/step - loss: 0.6936 - accuracy: 0.5258 - val_loss: 0.6712 - val_accuracy: 0.7532\n",
            "Epoch 7/30\n",
            "60/60 [==============================] - 0s 2ms/step - loss: 0.6889 - accuracy: 0.5385 - val_loss: 0.6691 - val_accuracy: 0.7405\n",
            "Epoch 8/30\n",
            "60/60 [==============================] - 0s 3ms/step - loss: 0.6774 - accuracy: 0.5659 - val_loss: 0.6670 - val_accuracy: 0.7405\n",
            "Epoch 9/30\n",
            "60/60 [==============================] - 0s 2ms/step - loss: 0.6791 - accuracy: 0.5501 - val_loss: 0.6667 - val_accuracy: 0.8397\n",
            "Epoch 10/30\n",
            "60/60 [==============================] - 0s 2ms/step - loss: 0.6743 - accuracy: 0.5506 - val_loss: 0.6681 - val_accuracy: 0.8228\n",
            "Epoch 11/30\n",
            "60/60 [==============================] - 0s 2ms/step - loss: 0.6637 - accuracy: 0.5649 - val_loss: 0.6651 - val_accuracy: 0.8376\n",
            "Epoch 12/30\n",
            "60/60 [==============================] - 0s 3ms/step - loss: 0.6592 - accuracy: 0.5622 - val_loss: 0.6656 - val_accuracy: 0.8038\n",
            "Epoch 13/30\n",
            "60/60 [==============================] - 0s 2ms/step - loss: 0.6536 - accuracy: 0.5506 - val_loss: 0.6645 - val_accuracy: 0.7764\n",
            "Epoch 14/30\n",
            "60/60 [==============================] - 0s 2ms/step - loss: 0.6510 - accuracy: 0.5643 - val_loss: 0.6636 - val_accuracy: 0.7574\n",
            "Epoch 15/30\n",
            "60/60 [==============================] - 0s 2ms/step - loss: 0.6460 - accuracy: 0.5796 - val_loss: 0.6638 - val_accuracy: 0.7110\n",
            "Epoch 16/30\n",
            "60/60 [==============================] - 0s 3ms/step - loss: 0.6422 - accuracy: 0.5960 - val_loss: 0.6583 - val_accuracy: 0.7722\n",
            "Epoch 17/30\n",
            "60/60 [==============================] - 0s 2ms/step - loss: 0.6397 - accuracy: 0.5923 - val_loss: 0.6571 - val_accuracy: 0.7532\n",
            "Epoch 18/30\n",
            "60/60 [==============================] - 0s 3ms/step - loss: 0.6415 - accuracy: 0.5949 - val_loss: 0.6548 - val_accuracy: 0.7532\n",
            "Epoch 19/30\n",
            "60/60 [==============================] - 0s 2ms/step - loss: 0.6265 - accuracy: 0.6134 - val_loss: 0.6474 - val_accuracy: 0.7975\n",
            "Epoch 20/30\n",
            "60/60 [==============================] - 0s 3ms/step - loss: 0.6325 - accuracy: 0.6060 - val_loss: 0.6453 - val_accuracy: 0.7869\n",
            "Epoch 21/30\n",
            "60/60 [==============================] - 0s 3ms/step - loss: 0.6333 - accuracy: 0.6039 - val_loss: 0.6440 - val_accuracy: 0.7679\n",
            "Epoch 22/30\n",
            "60/60 [==============================] - 0s 2ms/step - loss: 0.6172 - accuracy: 0.6366 - val_loss: 0.6326 - val_accuracy: 0.8143\n",
            "Epoch 23/30\n",
            "60/60 [==============================] - 0s 3ms/step - loss: 0.6187 - accuracy: 0.6218 - val_loss: 0.6256 - val_accuracy: 0.8207\n",
            "Epoch 24/30\n",
            "60/60 [==============================] - 0s 3ms/step - loss: 0.6015 - accuracy: 0.6551 - val_loss: 0.6211 - val_accuracy: 0.8038\n",
            "Epoch 25/30\n",
            "60/60 [==============================] - 0s 3ms/step - loss: 0.5908 - accuracy: 0.6624 - val_loss: 0.6103 - val_accuracy: 0.8080\n",
            "Epoch 26/30\n",
            "60/60 [==============================] - 0s 3ms/step - loss: 0.5579 - accuracy: 0.7284 - val_loss: 0.5026 - val_accuracy: 0.9093\n",
            "Epoch 27/30\n",
            "60/60 [==============================] - 0s 2ms/step - loss: 0.5414 - accuracy: 0.7373 - val_loss: 0.4830 - val_accuracy: 0.9135\n",
            "Epoch 28/30\n",
            "60/60 [==============================] - 0s 3ms/step - loss: 0.5290 - accuracy: 0.7373 - val_loss: 0.4694 - val_accuracy: 0.8924\n",
            "Epoch 29/30\n",
            "60/60 [==============================] - 0s 2ms/step - loss: 0.4770 - accuracy: 0.8022 - val_loss: 0.4163 - val_accuracy: 0.9219\n",
            "Epoch 30/30\n",
            "60/60 [==============================] - 0s 2ms/step - loss: 0.4811 - accuracy: 0.7838 - val_loss: 0.3919 - val_accuracy: 0.9241\n",
            "15/15 [==============================] - 0s 1ms/step - loss: 0.3919 - accuracy: 0.9241\n",
            "Score for fold 3: loss of 0.3918863832950592; accuracy of 92.40506291389465%\n"
          ]
        },
        {
          "output_type": "display_data",
          "data": {
            "image/png": "[encoded data removed]",
            "text/plain": [
              "<Figure size 432x288 with 1 Axes>"
            ]
          },
          "metadata": {
            "needs_background": "light"
          }
        },
        {
          "output_type": "stream",
          "name": "stdout",
          "text": [
            "--------------------------------------------------\n",
            "Training for fold 4 ...\n",
            "Epoch 1/30\n",
            "60/60 [==============================] - 1s 5ms/step - loss: 5.2378 - accuracy: 0.5042 - val_loss: 3.3651 - val_accuracy: 0.4979\n",
            "Epoch 2/30\n",
            "60/60 [==============================] - 0s 2ms/step - loss: 2.3822 - accuracy: 0.4884 - val_loss: 1.1347 - val_accuracy: 0.4979\n",
            "Epoch 3/30\n",
            "60/60 [==============================] - 0s 2ms/step - loss: 1.2858 - accuracy: 0.4826 - val_loss: 0.7645 - val_accuracy: 0.4093\n",
            "Epoch 4/30\n",
            "60/60 [==============================] - 0s 2ms/step - loss: 0.9862 - accuracy: 0.4573 - val_loss: 0.7128 - val_accuracy: 0.4620\n",
            "Epoch 5/30\n",
            "60/60 [==============================] - 0s 2ms/step - loss: 0.8723 - accuracy: 0.4763 - val_loss: 0.6963 - val_accuracy: 0.5021\n",
            "Epoch 6/30\n",
            "60/60 [==============================] - 0s 3ms/step - loss: 0.8165 - accuracy: 0.4884 - val_loss: 0.6966 - val_accuracy: 0.5021\n",
            "Epoch 7/30\n",
            "60/60 [==============================] - 0s 2ms/step - loss: 0.8215 - accuracy: 0.4720 - val_loss: 0.6963 - val_accuracy: 0.5021\n",
            "Epoch 8/30\n",
            "60/60 [==============================] - 0s 2ms/step - loss: 0.7750 - accuracy: 0.4757 - val_loss: 0.6931 - val_accuracy: 0.5021\n",
            "Epoch 9/30\n",
            "60/60 [==============================] - 0s 3ms/step - loss: 0.7396 - accuracy: 0.4599 - val_loss: 0.6921 - val_accuracy: 0.5021\n",
            "Epoch 10/30\n",
            "60/60 [==============================] - 0s 2ms/step - loss: 0.7468 - accuracy: 0.4309 - val_loss: 0.6917 - val_accuracy: 0.5021\n",
            "Epoch 11/30\n",
            "60/60 [==============================] - 0s 3ms/step - loss: 0.7274 - accuracy: 0.4457 - val_loss: 0.6920 - val_accuracy: 0.5021\n",
            "Epoch 12/30\n",
            "60/60 [==============================] - 0s 2ms/step - loss: 0.7274 - accuracy: 0.4494 - val_loss: 0.6919 - val_accuracy: 0.5021\n",
            "Epoch 13/30\n",
            "60/60 [==============================] - 0s 2ms/step - loss: 0.7056 - accuracy: 0.5026 - val_loss: 0.6918 - val_accuracy: 0.5021\n",
            "Epoch 14/30\n",
            "60/60 [==============================] - 0s 2ms/step - loss: 0.7082 - accuracy: 0.4858 - val_loss: 0.6910 - val_accuracy: 0.5021\n",
            "Epoch 15/30\n",
            "60/60 [==============================] - 0s 3ms/step - loss: 0.7085 - accuracy: 0.4910 - val_loss: 0.6909 - val_accuracy: 0.5021\n",
            "Epoch 16/30\n",
            "60/60 [==============================] - 0s 3ms/step - loss: 0.7012 - accuracy: 0.5058 - val_loss: 0.6907 - val_accuracy: 0.5021\n",
            "Epoch 17/30\n",
            "60/60 [==============================] - 0s 2ms/step - loss: 0.6995 - accuracy: 0.4905 - val_loss: 0.6906 - val_accuracy: 0.5021\n",
            "Epoch 18/30\n",
            "60/60 [==============================] - 0s 3ms/step - loss: 0.7007 - accuracy: 0.5026 - val_loss: 0.6903 - val_accuracy: 0.5021\n",
            "Epoch 19/30\n",
            "60/60 [==============================] - 0s 2ms/step - loss: 0.7017 - accuracy: 0.4942 - val_loss: 0.6903 - val_accuracy: 0.5021\n",
            "Epoch 20/30\n",
            "60/60 [==============================] - 0s 3ms/step - loss: 0.6938 - accuracy: 0.5243 - val_loss: 0.6899 - val_accuracy: 0.5021\n",
            "Epoch 21/30\n",
            "60/60 [==============================] - 0s 2ms/step - loss: 0.6945 - accuracy: 0.5037 - val_loss: 0.6893 - val_accuracy: 0.5021\n",
            "Epoch 22/30\n",
            "60/60 [==============================] - 0s 3ms/step - loss: 0.6914 - accuracy: 0.5311 - val_loss: 0.6882 - val_accuracy: 0.5021\n",
            "Epoch 23/30\n",
            "60/60 [==============================] - 0s 2ms/step - loss: 0.6916 - accuracy: 0.5564 - val_loss: 0.6874 - val_accuracy: 0.5148\n",
            "Epoch 24/30\n",
            "60/60 [==============================] - 0s 3ms/step - loss: 0.6839 - accuracy: 0.5701 - val_loss: 0.6866 - val_accuracy: 0.7764\n",
            "Epoch 25/30\n",
            "60/60 [==============================] - 0s 2ms/step - loss: 0.6879 - accuracy: 0.5939 - val_loss: 0.6856 - val_accuracy: 0.9156\n",
            "Epoch 26/30\n",
            "60/60 [==============================] - 0s 2ms/step - loss: 0.6882 - accuracy: 0.5955 - val_loss: 0.6834 - val_accuracy: 0.8481\n",
            "Epoch 27/30\n",
            "60/60 [==============================] - 0s 2ms/step - loss: 0.6866 - accuracy: 0.5923 - val_loss: 0.6813 - val_accuracy: 0.8228\n",
            "Epoch 28/30\n",
            "60/60 [==============================] - 0s 2ms/step - loss: 0.6815 - accuracy: 0.5944 - val_loss: 0.6798 - val_accuracy: 0.6730\n",
            "Epoch 29/30\n",
            "60/60 [==============================] - 0s 3ms/step - loss: 0.6817 - accuracy: 0.5949 - val_loss: 0.6768 - val_accuracy: 0.6414\n",
            "Epoch 30/30\n",
            "60/60 [==============================] - 0s 2ms/step - loss: 0.6834 - accuracy: 0.5907 - val_loss: 0.6749 - val_accuracy: 0.6287\n",
            "15/15 [==============================] - 0s 2ms/step - loss: 0.6749 - accuracy: 0.6287\n",
            "Score for fold 4: loss of 0.6748626828193665; accuracy of 62.86919713020325%\n"
          ]
        },
        {
          "output_type": "display_data",
          "data": {
            "image/png": "[encoded data removed]",
            "text/plain": [
              "<Figure size 432x288 with 1 Axes>"
            ]
          },
          "metadata": {
            "needs_background": "light"
          }
        },
        {
          "output_type": "stream",
          "name": "stdout",
          "text": [
            "--------------------------------------------------\n",
            "Training for fold 5 ...\n",
            "Epoch 1/30\n",
            "60/60 [==============================] - 2s 10ms/step - loss: 5.1618 - accuracy: 0.5090 - val_loss: 0.7150 - val_accuracy: 0.5549\n",
            "Epoch 2/30\n",
            "60/60 [==============================] - 0s 2ms/step - loss: 2.5330 - accuracy: 0.5005 - val_loss: 0.6257 - val_accuracy: 0.5591\n",
            "Epoch 3/30\n",
            "60/60 [==============================] - 0s 2ms/step - loss: 1.8449 - accuracy: 0.4921 - val_loss: 0.5987 - val_accuracy: 0.6624\n",
            "Epoch 4/30\n",
            "60/60 [==============================] - 0s 3ms/step - loss: 1.3274 - accuracy: 0.5280 - val_loss: 0.6115 - val_accuracy: 0.5211\n",
            "Epoch 5/30\n",
            "60/60 [==============================] - 0s 3ms/step - loss: 1.0798 - accuracy: 0.5153 - val_loss: 0.6131 - val_accuracy: 0.4768\n",
            "Epoch 6/30\n",
            "60/60 [==============================] - 0s 2ms/step - loss: 0.8896 - accuracy: 0.5401 - val_loss: 0.6203 - val_accuracy: 0.4979\n",
            "Epoch 7/30\n",
            "60/60 [==============================] - 0s 2ms/step - loss: 0.8319 - accuracy: 0.5301 - val_loss: 0.6231 - val_accuracy: 0.4937\n",
            "Epoch 8/30\n",
            "60/60 [==============================] - 0s 3ms/step - loss: 0.7956 - accuracy: 0.5158 - val_loss: 0.6259 - val_accuracy: 0.4768\n",
            "Epoch 9/30\n",
            "60/60 [==============================] - 0s 2ms/step - loss: 0.7393 - accuracy: 0.5232 - val_loss: 0.6281 - val_accuracy: 0.4768\n",
            "Epoch 10/30\n",
            "60/60 [==============================] - 0s 3ms/step - loss: 0.7179 - accuracy: 0.5343 - val_loss: 0.6309 - val_accuracy: 0.5000\n",
            "Epoch 11/30\n",
            "60/60 [==============================] - 0s 2ms/step - loss: 0.7138 - accuracy: 0.5348 - val_loss: 0.6216 - val_accuracy: 0.6646\n",
            "Epoch 12/30\n",
            "60/60 [==============================] - 0s 2ms/step - loss: 0.6865 - accuracy: 0.5485 - val_loss: 0.6155 - val_accuracy: 0.7004\n",
            "Epoch 13/30\n",
            "60/60 [==============================] - 0s 3ms/step - loss: 0.6846 - accuracy: 0.5638 - val_loss: 0.6098 - val_accuracy: 0.7342\n",
            "Epoch 14/30\n",
            "60/60 [==============================] - 0s 2ms/step - loss: 0.6624 - accuracy: 0.5786 - val_loss: 0.5975 - val_accuracy: 0.7574\n",
            "Epoch 15/30\n",
            "60/60 [==============================] - 0s 2ms/step - loss: 0.6433 - accuracy: 0.6013 - val_loss: 0.5876 - val_accuracy: 0.8101\n",
            "Epoch 16/30\n",
            "60/60 [==============================] - 0s 2ms/step - loss: 0.6384 - accuracy: 0.6261 - val_loss: 0.5846 - val_accuracy: 0.8291\n",
            "Epoch 17/30\n",
            "60/60 [==============================] - 0s 3ms/step - loss: 0.6282 - accuracy: 0.6308 - val_loss: 0.5684 - val_accuracy: 0.8397\n",
            "Epoch 18/30\n",
            "60/60 [==============================] - 0s 2ms/step - loss: 0.6131 - accuracy: 0.6440 - val_loss: 0.5521 - val_accuracy: 0.8481\n",
            "Epoch 19/30\n",
            "60/60 [==============================] - 0s 2ms/step - loss: 0.5985 - accuracy: 0.6435 - val_loss: 0.5406 - val_accuracy: 0.8523\n",
            "Epoch 20/30\n",
            "60/60 [==============================] - 0s 2ms/step - loss: 0.5815 - accuracy: 0.6603 - val_loss: 0.5328 - val_accuracy: 0.8608\n",
            "Epoch 21/30\n",
            "60/60 [==============================] - 0s 3ms/step - loss: 0.5795 - accuracy: 0.6667 - val_loss: 0.5068 - val_accuracy: 0.8924\n",
            "Epoch 22/30\n",
            "60/60 [==============================] - 0s 3ms/step - loss: 0.5641 - accuracy: 0.6640 - val_loss: 0.4906 - val_accuracy: 0.8987\n",
            "Epoch 23/30\n",
            "60/60 [==============================] - 0s 3ms/step - loss: 0.5383 - accuracy: 0.6746 - val_loss: 0.4710 - val_accuracy: 0.8987\n",
            "Epoch 24/30\n",
            "60/60 [==============================] - 0s 2ms/step - loss: 0.5491 - accuracy: 0.6540 - val_loss: 0.4626 - val_accuracy: 0.9093\n",
            "Epoch 25/30\n",
            "60/60 [==============================] - 0s 2ms/step - loss: 0.5382 - accuracy: 0.6688 - val_loss: 0.4519 - val_accuracy: 0.9262\n",
            "Epoch 26/30\n",
            "60/60 [==============================] - 0s 2ms/step - loss: 0.5262 - accuracy: 0.6735 - val_loss: 0.4392 - val_accuracy: 0.9262\n",
            "Epoch 27/30\n",
            "60/60 [==============================] - 0s 3ms/step - loss: 0.5166 - accuracy: 0.6857 - val_loss: 0.4198 - val_accuracy: 0.9093\n",
            "Epoch 28/30\n",
            "60/60 [==============================] - 0s 2ms/step - loss: 0.5055 - accuracy: 0.6857 - val_loss: 0.4073 - val_accuracy: 0.9114\n",
            "Epoch 29/30\n",
            "60/60 [==============================] - 0s 3ms/step - loss: 0.5092 - accuracy: 0.6957 - val_loss: 0.4028 - val_accuracy: 0.9219\n",
            "Epoch 30/30\n",
            "60/60 [==============================] - 0s 2ms/step - loss: 0.4987 - accuracy: 0.7136 - val_loss: 0.3950 - val_accuracy: 0.9388\n",
            "15/15 [==============================] - 0s 2ms/step - loss: 0.3950 - accuracy: 0.9388\n",
            "Score for fold 5: loss of 0.3949972093105316; accuracy of 93.88185739517212%\n"
          ]
        },
        {
          "output_type": "display_data",
          "data": {
            "image/png": "[encoded data removed]",
            "text/plain": [
              "<Figure size 432x288 with 1 Axes>"
            ]
          },
          "metadata": {
            "needs_background": "light"
          }
        }
      ]
    },
    {
      "cell_type": "code",
      "metadata": {
        "id": "vMal3AMZT_s5",
        "colab": {
          "base_uri": "https://localhost:8080/"
        },
        "outputId": "57a3892b-a0da-4e9d-baff-24ffeb6ad54c"
      },
      "source": [
        "# Validation accuracy per fold\n",
        "print(acc_per_fold)\n",
        "print(np.mean(acc_per_fold))"
      ],
      "execution_count": null,
      "outputs": [
        {
          "output_type": "stream",
          "name": "stdout",
          "text": [
            "[90.92826843261719, 91.13923907279968, 92.40506291389465, 62.86919713020325, 93.88185739517212]\n",
            "86.24472498893738\n"
          ]
        }
      ]
    },
    {
      "cell_type": "code",
      "metadata": {
        "colab": {
          "base_uri": "https://localhost:8080/"
        },
        "id": "lPaV1f01Nrj_",
        "outputId": "2a923f49-8d11-4464-a33b-4e3857ebac1e"
      },
      "source": [
        "# Validation loss per fold\n",
        "print(loss_per_fold)\n",
        "print(np.mean(loss_per_fold))"
      ],
      "execution_count": null,
      "outputs": [
        {
          "output_type": "stream",
          "name": "stdout",
          "text": [
            "[0.5026978850364685, 0.3722006380558014, 0.3918863832950592, 0.6748626828193665, 0.3949972093105316]\n",
            "0.46732895970344546\n"
          ]
        }
      ]
    },
    {
      "cell_type": "code",
      "metadata": {
        "colab": {
          "base_uri": "https://localhost:8080/"
        },
        "id": "HbNh_tCIllDy",
        "outputId": "a8db884e-60e3-48e0-efa8-4103ec45138c"
      },
      "source": [
        "## Test Data\n",
        "pred_NN = model_NN.predict(X_test)\n",
        "pred_NN = np.where(pred_NN > 0.5,1,0)\n",
        "cm_NN = confusion_matrix(Y_test, pred_NN)\n",
        "print(cm_NN)"
      ],
      "execution_count": null,
      "outputs": [
        {
          "output_type": "stream",
          "name": "stdout",
          "text": [
            "[[466  59]\n",
            " [  1  72]]\n"
          ]
        }
      ]
    },
    {
      "cell_type": "code",
      "metadata": {
        "colab": {
          "base_uri": "https://localhost:8080/"
        },
        "id": "JG6qyqs9URi4",
        "outputId": "5b2d9923-abea-4768-fb59-0f424e938817"
      },
      "source": [
        "# Prediction report for Test Dataset(precision, recall rate, F1, accuracy)\n",
        "print(classification_report(Y_test, pred_NN)) "
      ],
      "execution_count": null,
      "outputs": [
        {
          "output_type": "stream",
          "name": "stdout",
          "text": [
            "              precision    recall  f1-score   support\n",
            "\n",
            "           0       1.00      0.89      0.94       525\n",
            "           1       0.55      0.99      0.71        73\n",
            "\n",
            "    accuracy                           0.90       598\n",
            "   macro avg       0.77      0.94      0.82       598\n",
            "weighted avg       0.94      0.90      0.91       598\n",
            "\n"
          ]
        }
      ]
    },
    {
      "cell_type": "markdown",
      "metadata": {
        "id": "i_Dl_qK7Vqz9"
      },
      "source": [
        "# **Logistic Regression**"
      ]
    },
    {
      "cell_type": "markdown",
      "metadata": {
        "id": "mInyu2VHSOjz"
      },
      "source": [
        "In logistic regression, I used 5-fold cross validation to adjust the hyperparameter \"solver\". Among the three solver, which were lbfgs, liblinear, and newton-cg, \"liblinear\" had the highest mean accuracy. Thus, I set it as the optimal logistic regression model. After fitting in the test dataset, the accuracy and recall rate were 91% and 93%, respectively."
      ]
    },
    {
      "cell_type": "code",
      "metadata": {
        "id": "5UeceOQTVu4O"
      },
      "source": [
        "from sklearn import linear_model\n",
        "from sklearn.metrics import confusion_matrix"
      ],
      "execution_count": null,
      "outputs": []
    },
    {
      "cell_type": "code",
      "metadata": {
        "colab": {
          "base_uri": "https://localhost:8080/"
        },
        "id": "Pzlpjdv_VPW2",
        "outputId": "dfbd9641-e1f5-4232-df99-14d9377d57e6"
      },
      "source": [
        "# 5-fold Cross Validation\n",
        "kf = KFold(n_splits=5, random_state=6001, shuffle=True)\n",
        "\n",
        "fold_no = 1\n",
        "np.random.seed(6001)\n",
        "\n",
        "for trainIndex, validIndex in kf.split(XY_resampled):\n",
        "  # Define the model \n",
        "  model_LR = linear_model.LogisticRegression(solver='liblinear')\n",
        "\n",
        "  print('-'*50)\n",
        "  print(f'Training for fold {fold_no} ...')\n",
        "\n",
        "  # Fit training data to model\n",
        "  history = model_LR.fit(XY_resampled.iloc[trainIndex,0:3], XY_resampled.iloc[trainIndex,3])\n",
        "\n",
        "  # Evaluate the model (Loss & Accuracy)\n",
        "  scores = model_LR.score(XY_resampled.iloc[validIndex,0:3], XY_resampled.iloc[validIndex, 3])\n",
        "  score = round(scores*100,2)\n",
        "  print(f'Accuracy:  {score} %')\n",
        "\n",
        "  fold_no = fold_no + 1"
      ],
      "execution_count": null,
      "outputs": [
        {
          "output_type": "stream",
          "name": "stdout",
          "text": [
            "--------------------------------------------------\n",
            "Training for fold 1 ...\n",
            "Accuracy:  94.73 %\n",
            "--------------------------------------------------\n",
            "Training for fold 2 ...\n",
            "Accuracy:  94.3 %\n",
            "--------------------------------------------------\n",
            "Training for fold 3 ...\n",
            "Accuracy:  92.19 %\n",
            "--------------------------------------------------\n",
            "Training for fold 4 ...\n",
            "Accuracy:  94.51 %\n",
            "--------------------------------------------------\n",
            "Training for fold 5 ...\n",
            "Accuracy:  95.15 %\n"
          ]
        }
      ]
    },
    {
      "cell_type": "code",
      "metadata": {
        "id": "3QwGli7smDZn",
        "colab": {
          "base_uri": "https://localhost:8080/"
        },
        "outputId": "747a3a87-96e7-4329-e6ba-6ec8f29a67fd"
      },
      "source": [
        "## Test Data\n",
        "pred_LR = model_LR.predict(X_test)\n",
        "cm_LR = confusion_matrix(Y_test, pred_LR)\n",
        "print(cm_LR)"
      ],
      "execution_count": null,
      "outputs": [
        {
          "output_type": "stream",
          "name": "stdout",
          "text": [
            "[[478  47]\n",
            " [  5  68]]\n"
          ]
        }
      ]
    },
    {
      "cell_type": "code",
      "metadata": {
        "colab": {
          "base_uri": "https://localhost:8080/"
        },
        "id": "1n9fxvt4XFO1",
        "outputId": "7ca54baf-9e1e-4114-9800-0b3ff45038a2"
      },
      "source": [
        "# Prediction report for Test Dataset(precision, recall rate, F1, accuracy)\n",
        "print(classification_report(Y_test, pred_LR)) "
      ],
      "execution_count": null,
      "outputs": [
        {
          "output_type": "stream",
          "name": "stdout",
          "text": [
            "              precision    recall  f1-score   support\n",
            "\n",
            "           0       0.99      0.91      0.95       525\n",
            "           1       0.59      0.93      0.72        73\n",
            "\n",
            "    accuracy                           0.91       598\n",
            "   macro avg       0.79      0.92      0.84       598\n",
            "weighted avg       0.94      0.91      0.92       598\n",
            "\n"
          ]
        }
      ]
    },
    {
      "cell_type": "markdown",
      "metadata": {
        "id": "AoxYx_IZm5YR"
      },
      "source": [
        "# **Random Forest**"
      ]
    },
    {
      "cell_type": "markdown",
      "metadata": {
        "id": "vMxTJKagUDli"
      },
      "source": [
        "In random forest model, I used 10-fold cross validation to adjust the hyperparameter \"Max_depth\". From the result, I found that the accuracy decreased from the 2rd fold (94.09%) to the 3th fold (93.67%). Thus, I set the optimal random forest's Max_depth to \"2\". Based on the testing data result, the accuracy and recall rate were 91% and 97% respectively. Moreover, from the feature importance, we can conclude that \"Age\" is the most important variable in predicting credit card default."
      ]
    },
    {
      "cell_type": "code",
      "metadata": {
        "id": "KLLF4z1gm8EQ"
      },
      "source": [
        "from sklearn.ensemble import RandomForestClassifier\n",
        "\n",
        "# 10-fold Cross Validation\n",
        "kf = KFold(n_splits=10, random_state=6001, shuffle=True)"
      ],
      "execution_count": null,
      "outputs": []
    },
    {
      "cell_type": "code",
      "metadata": {
        "colab": {
          "base_uri": "https://localhost:8080/"
        },
        "id": "6Kaa5MDkYVr8",
        "outputId": "9c2f54a2-7c62-459a-e56f-a054c3dece73"
      },
      "source": [
        "fold_no = 1\n",
        "loss_per_fold =[]\n",
        "acc_per_fold = []\n",
        "maxDepth = 1  # use 5-fold CV to adjust max_depth\n",
        "np.random.seed(6001)\n",
        "\n",
        "for trainIndex, validIndex in kf.split(XY_resampled):\n",
        "  # Define the model \n",
        "  model_RF = RandomForestClassifier(max_depth=maxDepth)\n",
        "\n",
        "  print('-'*50)\n",
        "  print(f'Training for fold {fold_no} ...')\n",
        "\n",
        "  # Fit training data to model\n",
        "  history = model_RF.fit(XY_resampled.iloc[trainIndex,0:3], XY_resampled.iloc[trainIndex,3])\n",
        "\n",
        "  # Evaluate the model (Loss & Accuracy)\n",
        "  scores = model_RF.score(XY_resampled.iloc[validIndex,0:3], XY_resampled.iloc[validIndex, 3])\n",
        "  score = round(scores*100,2)\n",
        "  print(f'Accuracy:  {score} %')\n",
        "\n",
        "  fold_no = fold_no + 1\n",
        "  maxDepth = maxDepth + 1\n",
        "  \n",
        "  # From the 10-fold Cross Validation, we found that the accuracy decreased from the 2rd fold (94.09%) to the 3th fold (93.67%) \n",
        "  # Thus we set the optimal random forest's Max_depth to \"2\""
      ],
      "execution_count": null,
      "outputs": [
        {
          "output_type": "stream",
          "name": "stdout",
          "text": [
            "--------------------------------------------------\n",
            "Training for fold 1 ...\n",
            "Accuracy:  89.03 %\n",
            "--------------------------------------------------\n",
            "Training for fold 2 ...\n",
            "Accuracy:  94.09 %\n",
            "--------------------------------------------------\n",
            "Training for fold 3 ...\n",
            "Accuracy:  93.67 %\n",
            "--------------------------------------------------\n",
            "Training for fold 4 ...\n",
            "Accuracy:  97.47 %\n",
            "--------------------------------------------------\n",
            "Training for fold 5 ...\n",
            "Accuracy:  99.16 %\n",
            "--------------------------------------------------\n",
            "Training for fold 6 ...\n",
            "Accuracy:  98.73 %\n",
            "--------------------------------------------------\n",
            "Training for fold 7 ...\n",
            "Accuracy:  99.16 %\n",
            "--------------------------------------------------\n",
            "Training for fold 8 ...\n",
            "Accuracy:  97.89 %\n",
            "--------------------------------------------------\n",
            "Training for fold 9 ...\n",
            "Accuracy:  99.16 %\n",
            "--------------------------------------------------\n",
            "Training for fold 10 ...\n",
            "Accuracy:  99.16 %\n"
          ]
        }
      ]
    },
    {
      "cell_type": "code",
      "metadata": {
        "colab": {
          "base_uri": "https://localhost:8080/"
        },
        "id": "gq_IIdqFSFPt",
        "outputId": "f7bba8f5-8c26-4310-9d56-babe6b6f6f77"
      },
      "source": [
        "# The optimal Random Forest\n",
        "model_RF_best = RandomForestClassifier(max_depth=2)\n",
        "model_RF_best.fit(XY_resampled.iloc[trainIndex,0:3], XY_resampled.iloc[trainIndex,3])"
      ],
      "execution_count": null,
      "outputs": [
        {
          "output_type": "execute_result",
          "data": {
            "text/plain": [
              "RandomForestClassifier(bootstrap=True, ccp_alpha=0.0, class_weight=None,\n",
              "                       criterion='gini', max_depth=2, max_features='auto',\n",
              "                       max_leaf_nodes=None, max_samples=None,\n",
              "                       min_impurity_decrease=0.0, min_impurity_split=None,\n",
              "                       min_samples_leaf=1, min_samples_split=2,\n",
              "                       min_weight_fraction_leaf=0.0, n_estimators=100,\n",
              "                       n_jobs=None, oob_score=False, random_state=None,\n",
              "                       verbose=0, warm_start=False)"
            ]
          },
          "metadata": {},
          "execution_count": 103
        }
      ]
    },
    {
      "cell_type": "code",
      "metadata": {
        "id": "-tATOpzanGOe",
        "colab": {
          "base_uri": "https://localhost:8080/"
        },
        "outputId": "4e680578-beb6-4c0d-fdcc-0909f60d4d0a"
      },
      "source": [
        "## Test Data\n",
        "pred_RF = model_RF_best.predict(X_test)\n",
        "cm_RF = confusion_matrix(Y_test, pred_RF)\n",
        "print(cm_RF)"
      ],
      "execution_count": null,
      "outputs": [
        {
          "output_type": "stream",
          "name": "stdout",
          "text": [
            "[[471  54]\n",
            " [  2  71]]\n"
          ]
        }
      ]
    },
    {
      "cell_type": "code",
      "metadata": {
        "colab": {
          "base_uri": "https://localhost:8080/"
        },
        "id": "bOkQw4y5ZMeH",
        "outputId": "b030a351-b91d-4b0d-e22b-2a8eef07d424"
      },
      "source": [
        "# Prediction report for Test Dataset(precision, recall rate, F1, accuracy)\n",
        "print(classification_report(Y_test, pred_RF)) "
      ],
      "execution_count": null,
      "outputs": [
        {
          "output_type": "stream",
          "name": "stdout",
          "text": [
            "              precision    recall  f1-score   support\n",
            "\n",
            "           0       1.00      0.90      0.94       525\n",
            "           1       0.57      0.97      0.72        73\n",
            "\n",
            "    accuracy                           0.91       598\n",
            "   macro avg       0.78      0.93      0.83       598\n",
            "weighted avg       0.94      0.91      0.92       598\n",
            "\n"
          ]
        }
      ]
    },
    {
      "cell_type": "code",
      "metadata": {
        "colab": {
          "base_uri": "https://localhost:8080/",
          "height": 316
        },
        "id": "6RvK-zX9a1j7",
        "outputId": "b8e4c032-e7df-41ff-e08c-ccd1a0c52f60"
      },
      "source": [
        "# Get importance variables\n",
        "importance = model_RF_best.feature_importances_\n",
        "\n",
        "# summarize feature importance\n",
        "for i,v in enumerate(importance):\n",
        "\tprint('Feature: %0d, Score: %.5f' % (i,v))\n",
        "\n",
        "# plot feature importance\n",
        "plt.bar([x for x in range(len(importance))], importance)\n",
        "plt.show()\n",
        "\n",
        "# Age is the most important variable, loan is the second important one."
      ],
      "execution_count": null,
      "outputs": [
        {
          "output_type": "stream",
          "name": "stdout",
          "text": [
            "Feature: 0, Score: 0.06382\n",
            "Feature: 1, Score: 0.54591\n",
            "Feature: 2, Score: 0.39026\n"
          ]
        },
        {
          "output_type": "display_data",
          "data": {
            "image/png": "[encoded data removed]",
            "text/plain": [
              "<Figure size 432x288 with 1 Axes>"
            ]
          },
          "metadata": {
            "needs_background": "light"
          }
        }
      ]
    }
  ]
}
