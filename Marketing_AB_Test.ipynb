{
  "nbformat": 4,
  "nbformat_minor": 0,
  "metadata": {
    "colab": {
      "name": "Marketing_AB_Test.ipynb",
      "provenance": [],
      "collapsed_sections": [],
      "mount_file_id": "10CJ_GFuihLbFY56cQakC0FWdZn0VzQCb",
      "authorship_tag": "ABX9TyOe/hSsbQtq6ODSfhhyQWQy",
      "include_colab_link": true
    },
    "kernelspec": {
      "name": "python3",
      "display_name": "Python 3"
    },
    "language_info": {
      "name": "python"
    }
  },
  "cells": [
    {
      "cell_type": "markdown",
      "metadata": {
        "id": "view-in-github",
        "colab_type": "text"
      },
      "source": [
        "<a href=\"https://colab.research.google.com/github/wetwetwet/Projects/blob/main/Marketing_AB_Test.ipynb\" target=\"_parent\"><img src=\"https://colab.research.google.com/assets/colab-badge.svg\" alt=\"Open In Colab\"/></a>"
      ]
    },
    {
      "cell_type": "code",
      "metadata": {
        "id": "Q_f0lar6Ic7o"
      },
      "source": [
        "import pandas as pd\n",
        "import matplotlib.pyplot as plt\n",
        "import seaborn as sns\n",
        "import numpy as np\n",
        "from scipy import stats"
      ],
      "execution_count": null,
      "outputs": []
    },
    {
      "cell_type": "code",
      "metadata": {
        "id": "9VrwVQWjItab"
      },
      "source": [
        "market = pd.read_csv(\"/content/drive/MyDrive/Self-Learning/Marketing AB Test/marketing_AB.csv\")"
      ],
      "execution_count": null,
      "outputs": []
    },
    {
      "cell_type": "markdown",
      "metadata": {
        "id": "U_ad8UTpDLj5"
      },
      "source": [
        "# **Data Wrangling**"
      ]
    },
    {
      "cell_type": "code",
      "metadata": {
        "colab": {
          "base_uri": "https://localhost:8080/"
        },
        "id": "1F57cyKpI6XP",
        "outputId": "2b12202b-fd2b-4d4f-be8c-fead7e6c0eb0"
      },
      "source": [
        "market.info()"
      ],
      "execution_count": null,
      "outputs": [
        {
          "output_type": "stream",
          "name": "stdout",
          "text": [
            "<class 'pandas.core.frame.DataFrame'>\n",
            "RangeIndex: 588101 entries, 0 to 588100\n",
            "Data columns (total 7 columns):\n",
            " #   Column         Non-Null Count   Dtype \n",
            "---  ------         --------------   ----- \n",
            " 0   Unnamed: 0     588101 non-null  int64 \n",
            " 1   user id        588101 non-null  int64 \n",
            " 2   test group     588101 non-null  object\n",
            " 3   converted      588101 non-null  bool  \n",
            " 4   total ads      588101 non-null  int64 \n",
            " 5   most ads day   588101 non-null  object\n",
            " 6   most ads hour  588101 non-null  int64 \n",
            "dtypes: bool(1), int64(4), object(2)\n",
            "memory usage: 27.5+ MB\n"
          ]
        }
      ]
    },
    {
      "cell_type": "code",
      "metadata": {
        "colab": {
          "base_uri": "https://localhost:8080/"
        },
        "id": "PJa483KrQ3M-",
        "outputId": "47d1e17d-0ca7-4c51-e9b9-abe5467bc8ea"
      },
      "source": [
        "# Check Missing Values\n",
        "market.isna().any() # No missing values"
      ],
      "execution_count": null,
      "outputs": [
        {
          "output_type": "execute_result",
          "data": {
            "text/plain": [
              "Unnamed: 0       False\n",
              "user id          False\n",
              "test group       False\n",
              "converted        False\n",
              "total ads        False\n",
              "most ads day     False\n",
              "most ads hour    False\n",
              "dtype: bool"
            ]
          },
          "metadata": {},
          "execution_count": 174
        }
      ]
    },
    {
      "cell_type": "code",
      "metadata": {
        "colab": {
          "base_uri": "https://localhost:8080/"
        },
        "id": "ATeOG2kEuNJM",
        "outputId": "77448403-51e6-4401-9ed6-96d5965bcbbd"
      },
      "source": [
        "# Check Duplicate\n",
        "market.duplicated().sum() # No duplicate"
      ],
      "execution_count": null,
      "outputs": [
        {
          "output_type": "execute_result",
          "data": {
            "text/plain": [
              "0"
            ]
          },
          "metadata": {},
          "execution_count": 175
        }
      ]
    },
    {
      "cell_type": "code",
      "metadata": {
        "colab": {
          "base_uri": "https://localhost:8080/",
          "height": 390
        },
        "id": "AccmQA1PJHei",
        "outputId": "9fd86b26-a49d-47ec-a94c-be40ad37e3e2"
      },
      "source": [
        "market.describe(include=\"all\")"
      ],
      "execution_count": null,
      "outputs": [
        {
          "output_type": "execute_result",
          "data": {
            "text/html": [
              "<div>\n",
              "<style scoped>\n",
              "    .dataframe tbody tr th:only-of-type {\n",
              "        vertical-align: middle;\n",
              "    }\n",
              "\n",
              "    .dataframe tbody tr th {\n",
              "        vertical-align: top;\n",
              "    }\n",
              "\n",
              "    .dataframe thead th {\n",
              "        text-align: right;\n",
              "    }\n",
              "</style>\n",
              "<table border=\"1\" class=\"dataframe\">\n",
              "  <thead>\n",
              "    <tr style=\"text-align: right;\">\n",
              "      <th></th>\n",
              "      <th>Unnamed: 0</th>\n",
              "      <th>user id</th>\n",
              "      <th>test group</th>\n",
              "      <th>converted</th>\n",
              "      <th>total ads</th>\n",
              "      <th>most ads day</th>\n",
              "      <th>most ads hour</th>\n",
              "    </tr>\n",
              "  </thead>\n",
              "  <tbody>\n",
              "    <tr>\n",
              "      <th>count</th>\n",
              "      <td>588101.000000</td>\n",
              "      <td>5.881010e+05</td>\n",
              "      <td>588101</td>\n",
              "      <td>588101</td>\n",
              "      <td>588101.000000</td>\n",
              "      <td>588101</td>\n",
              "      <td>588101.000000</td>\n",
              "    </tr>\n",
              "    <tr>\n",
              "      <th>unique</th>\n",
              "      <td>NaN</td>\n",
              "      <td>NaN</td>\n",
              "      <td>2</td>\n",
              "      <td>2</td>\n",
              "      <td>NaN</td>\n",
              "      <td>7</td>\n",
              "      <td>NaN</td>\n",
              "    </tr>\n",
              "    <tr>\n",
              "      <th>top</th>\n",
              "      <td>NaN</td>\n",
              "      <td>NaN</td>\n",
              "      <td>ad</td>\n",
              "      <td>False</td>\n",
              "      <td>NaN</td>\n",
              "      <td>Friday</td>\n",
              "      <td>NaN</td>\n",
              "    </tr>\n",
              "    <tr>\n",
              "      <th>freq</th>\n",
              "      <td>NaN</td>\n",
              "      <td>NaN</td>\n",
              "      <td>564577</td>\n",
              "      <td>573258</td>\n",
              "      <td>NaN</td>\n",
              "      <td>92608</td>\n",
              "      <td>NaN</td>\n",
              "    </tr>\n",
              "    <tr>\n",
              "      <th>mean</th>\n",
              "      <td>294050.000000</td>\n",
              "      <td>1.310692e+06</td>\n",
              "      <td>NaN</td>\n",
              "      <td>NaN</td>\n",
              "      <td>24.820876</td>\n",
              "      <td>NaN</td>\n",
              "      <td>14.469061</td>\n",
              "    </tr>\n",
              "    <tr>\n",
              "      <th>std</th>\n",
              "      <td>169770.279667</td>\n",
              "      <td>2.022260e+05</td>\n",
              "      <td>NaN</td>\n",
              "      <td>NaN</td>\n",
              "      <td>43.715181</td>\n",
              "      <td>NaN</td>\n",
              "      <td>4.834634</td>\n",
              "    </tr>\n",
              "    <tr>\n",
              "      <th>min</th>\n",
              "      <td>0.000000</td>\n",
              "      <td>9.000000e+05</td>\n",
              "      <td>NaN</td>\n",
              "      <td>NaN</td>\n",
              "      <td>1.000000</td>\n",
              "      <td>NaN</td>\n",
              "      <td>0.000000</td>\n",
              "    </tr>\n",
              "    <tr>\n",
              "      <th>25%</th>\n",
              "      <td>147025.000000</td>\n",
              "      <td>1.143190e+06</td>\n",
              "      <td>NaN</td>\n",
              "      <td>NaN</td>\n",
              "      <td>4.000000</td>\n",
              "      <td>NaN</td>\n",
              "      <td>11.000000</td>\n",
              "    </tr>\n",
              "    <tr>\n",
              "      <th>50%</th>\n",
              "      <td>294050.000000</td>\n",
              "      <td>1.313725e+06</td>\n",
              "      <td>NaN</td>\n",
              "      <td>NaN</td>\n",
              "      <td>13.000000</td>\n",
              "      <td>NaN</td>\n",
              "      <td>14.000000</td>\n",
              "    </tr>\n",
              "    <tr>\n",
              "      <th>75%</th>\n",
              "      <td>441075.000000</td>\n",
              "      <td>1.484088e+06</td>\n",
              "      <td>NaN</td>\n",
              "      <td>NaN</td>\n",
              "      <td>27.000000</td>\n",
              "      <td>NaN</td>\n",
              "      <td>18.000000</td>\n",
              "    </tr>\n",
              "    <tr>\n",
              "      <th>max</th>\n",
              "      <td>588100.000000</td>\n",
              "      <td>1.654483e+06</td>\n",
              "      <td>NaN</td>\n",
              "      <td>NaN</td>\n",
              "      <td>2065.000000</td>\n",
              "      <td>NaN</td>\n",
              "      <td>23.000000</td>\n",
              "    </tr>\n",
              "  </tbody>\n",
              "</table>\n",
              "</div>"
            ],
            "text/plain": [
              "           Unnamed: 0       user id  ... most ads day  most ads hour\n",
              "count   588101.000000  5.881010e+05  ...       588101  588101.000000\n",
              "unique            NaN           NaN  ...            7            NaN\n",
              "top               NaN           NaN  ...       Friday            NaN\n",
              "freq              NaN           NaN  ...        92608            NaN\n",
              "mean    294050.000000  1.310692e+06  ...          NaN      14.469061\n",
              "std     169770.279667  2.022260e+05  ...          NaN       4.834634\n",
              "min          0.000000  9.000000e+05  ...          NaN       0.000000\n",
              "25%     147025.000000  1.143190e+06  ...          NaN      11.000000\n",
              "50%     294050.000000  1.313725e+06  ...          NaN      14.000000\n",
              "75%     441075.000000  1.484088e+06  ...          NaN      18.000000\n",
              "max     588100.000000  1.654483e+06  ...          NaN      23.000000\n",
              "\n",
              "[11 rows x 7 columns]"
            ]
          },
          "metadata": {},
          "execution_count": 176
        }
      ]
    },
    {
      "cell_type": "code",
      "metadata": {
        "id": "tRvns0Yun_gU"
      },
      "source": [
        "# Convert \"Most ads hour\" into categorical variables\n",
        "market['most ads hour'] = market['most ads hour'].astype(\"category\")"
      ],
      "execution_count": null,
      "outputs": []
    },
    {
      "cell_type": "code",
      "metadata": {
        "id": "P4tGBD-L3I-p"
      },
      "source": [
        "# Remove outlier\n",
        "z_scores = stats.zscore(market['total ads'])\n",
        "filtered_entries = (np.abs(z_scores) < 3)\n",
        "market = market[filtered_entries]"
      ],
      "execution_count": null,
      "outputs": []
    },
    {
      "cell_type": "code",
      "metadata": {
        "colab": {
          "base_uri": "https://localhost:8080/"
        },
        "id": "nHqPRyp3_tge",
        "outputId": "85899c58-ec28-42c5-c874-1ae4d9c4da4b"
      },
      "source": [
        "market.shape # Initially 588,101 rows, now remain 578,070 rows"
      ],
      "execution_count": null,
      "outputs": [
        {
          "output_type": "execute_result",
          "data": {
            "text/plain": [
              "(578070, 7)"
            ]
          },
          "metadata": {},
          "execution_count": 179
        }
      ]
    },
    {
      "cell_type": "code",
      "metadata": {
        "colab": {
          "base_uri": "https://localhost:8080/",
          "height": 204
        },
        "id": "W5iCIUFfJZbu",
        "outputId": "fc933fc1-6b84-44f5-a119-1782a4047fc1"
      },
      "source": [
        "market.head()"
      ],
      "execution_count": null,
      "outputs": [
        {
          "output_type": "execute_result",
          "data": {
            "text/html": [
              "<div>\n",
              "<style scoped>\n",
              "    .dataframe tbody tr th:only-of-type {\n",
              "        vertical-align: middle;\n",
              "    }\n",
              "\n",
              "    .dataframe tbody tr th {\n",
              "        vertical-align: top;\n",
              "    }\n",
              "\n",
              "    .dataframe thead th {\n",
              "        text-align: right;\n",
              "    }\n",
              "</style>\n",
              "<table border=\"1\" class=\"dataframe\">\n",
              "  <thead>\n",
              "    <tr style=\"text-align: right;\">\n",
              "      <th></th>\n",
              "      <th>Unnamed: 0</th>\n",
              "      <th>user id</th>\n",
              "      <th>test group</th>\n",
              "      <th>converted</th>\n",
              "      <th>total ads</th>\n",
              "      <th>most ads day</th>\n",
              "      <th>most ads hour</th>\n",
              "    </tr>\n",
              "  </thead>\n",
              "  <tbody>\n",
              "    <tr>\n",
              "      <th>0</th>\n",
              "      <td>0</td>\n",
              "      <td>1069124</td>\n",
              "      <td>ad</td>\n",
              "      <td>False</td>\n",
              "      <td>130</td>\n",
              "      <td>Monday</td>\n",
              "      <td>20</td>\n",
              "    </tr>\n",
              "    <tr>\n",
              "      <th>1</th>\n",
              "      <td>1</td>\n",
              "      <td>1119715</td>\n",
              "      <td>ad</td>\n",
              "      <td>False</td>\n",
              "      <td>93</td>\n",
              "      <td>Tuesday</td>\n",
              "      <td>22</td>\n",
              "    </tr>\n",
              "    <tr>\n",
              "      <th>2</th>\n",
              "      <td>2</td>\n",
              "      <td>1144181</td>\n",
              "      <td>ad</td>\n",
              "      <td>False</td>\n",
              "      <td>21</td>\n",
              "      <td>Tuesday</td>\n",
              "      <td>18</td>\n",
              "    </tr>\n",
              "    <tr>\n",
              "      <th>7</th>\n",
              "      <td>7</td>\n",
              "      <td>1496843</td>\n",
              "      <td>ad</td>\n",
              "      <td>False</td>\n",
              "      <td>17</td>\n",
              "      <td>Sunday</td>\n",
              "      <td>18</td>\n",
              "    </tr>\n",
              "    <tr>\n",
              "      <th>8</th>\n",
              "      <td>8</td>\n",
              "      <td>1448851</td>\n",
              "      <td>ad</td>\n",
              "      <td>False</td>\n",
              "      <td>21</td>\n",
              "      <td>Tuesday</td>\n",
              "      <td>19</td>\n",
              "    </tr>\n",
              "  </tbody>\n",
              "</table>\n",
              "</div>"
            ],
            "text/plain": [
              "   Unnamed: 0  user id test group  ...  total ads  most ads day most ads hour\n",
              "0           0  1069124         ad  ...        130        Monday            20\n",
              "1           1  1119715         ad  ...         93       Tuesday            22\n",
              "2           2  1144181         ad  ...         21       Tuesday            18\n",
              "7           7  1496843         ad  ...         17        Sunday            18\n",
              "8           8  1448851         ad  ...         21       Tuesday            19\n",
              "\n",
              "[5 rows x 7 columns]"
            ]
          },
          "metadata": {},
          "execution_count": 180
        }
      ]
    },
    {
      "cell_type": "code",
      "metadata": {
        "id": "XCRYaoIBJ6V8"
      },
      "source": [
        "# remove unnecessary columns: index column\n",
        "market = market.drop(['Unnamed: 0'],axis=1)"
      ],
      "execution_count": null,
      "outputs": []
    },
    {
      "cell_type": "code",
      "metadata": {
        "colab": {
          "base_uri": "https://localhost:8080/"
        },
        "id": "6ix9B3AkKZTV",
        "outputId": "440b0a6f-bd86-4c21-ac04-cf6b62f4653f"
      },
      "source": [
        "market.shape"
      ],
      "execution_count": null,
      "outputs": [
        {
          "output_type": "execute_result",
          "data": {
            "text/plain": [
              "(578070, 6)"
            ]
          },
          "metadata": {},
          "execution_count": 182
        }
      ]
    },
    {
      "cell_type": "markdown",
      "metadata": {
        "id": "FsTktaOVKizl"
      },
      "source": [
        "# **Check AB test data**"
      ]
    },
    {
      "cell_type": "markdown",
      "metadata": {
        "id": "SNXH89GaBvHQ"
      },
      "source": [
        "In this section, I simply calculate the statistic features between both groups."
      ]
    },
    {
      "cell_type": "code",
      "metadata": {
        "colab": {
          "base_uri": "https://localhost:8080/",
          "height": 142
        },
        "id": "zatrqaXrjcCI",
        "outputId": "ecb823b3-626a-4310-a3e0-a889d3aac260"
      },
      "source": [
        "market.groupby('test group').count()\n",
        "# Showed that the counts in experimental group and control group were 554,998 and 23,072, respectively."
      ],
      "execution_count": null,
      "outputs": [
        {
          "output_type": "execute_result",
          "data": {
            "text/html": [
              "<div>\n",
              "<style scoped>\n",
              "    .dataframe tbody tr th:only-of-type {\n",
              "        vertical-align: middle;\n",
              "    }\n",
              "\n",
              "    .dataframe tbody tr th {\n",
              "        vertical-align: top;\n",
              "    }\n",
              "\n",
              "    .dataframe thead th {\n",
              "        text-align: right;\n",
              "    }\n",
              "</style>\n",
              "<table border=\"1\" class=\"dataframe\">\n",
              "  <thead>\n",
              "    <tr style=\"text-align: right;\">\n",
              "      <th></th>\n",
              "      <th>user id</th>\n",
              "      <th>converted</th>\n",
              "      <th>total ads</th>\n",
              "      <th>most ads day</th>\n",
              "      <th>most ads hour</th>\n",
              "    </tr>\n",
              "    <tr>\n",
              "      <th>test group</th>\n",
              "      <th></th>\n",
              "      <th></th>\n",
              "      <th></th>\n",
              "      <th></th>\n",
              "      <th></th>\n",
              "    </tr>\n",
              "  </thead>\n",
              "  <tbody>\n",
              "    <tr>\n",
              "      <th>ad</th>\n",
              "      <td>554998</td>\n",
              "      <td>554998</td>\n",
              "      <td>554998</td>\n",
              "      <td>554998</td>\n",
              "      <td>554998</td>\n",
              "    </tr>\n",
              "    <tr>\n",
              "      <th>psa</th>\n",
              "      <td>23072</td>\n",
              "      <td>23072</td>\n",
              "      <td>23072</td>\n",
              "      <td>23072</td>\n",
              "      <td>23072</td>\n",
              "    </tr>\n",
              "  </tbody>\n",
              "</table>\n",
              "</div>"
            ],
            "text/plain": [
              "            user id  converted  total ads  most ads day  most ads hour\n",
              "test group                                                            \n",
              "ad           554998     554998     554998        554998         554998\n",
              "psa           23072      23072      23072         23072          23072"
            ]
          },
          "metadata": {},
          "execution_count": 183
        }
      ]
    },
    {
      "cell_type": "code",
      "metadata": {
        "colab": {
          "base_uri": "https://localhost:8080/",
          "height": 419
        },
        "id": "CJCUKz6gH8Qn",
        "outputId": "559808f3-4f51-49df-9757-b78be24bb86a"
      },
      "source": [
        "pivot_df = pd.pivot_table(data = market, values = 'user id', index=['test group','converted','most ads day','most ads hour'], aggfunc='count')\n",
        "pivot_df.reset_index(inplace=True)\n",
        "pivot_df"
      ],
      "execution_count": null,
      "outputs": [
        {
          "output_type": "execute_result",
          "data": {
            "text/html": [
              "<div>\n",
              "<style scoped>\n",
              "    .dataframe tbody tr th:only-of-type {\n",
              "        vertical-align: middle;\n",
              "    }\n",
              "\n",
              "    .dataframe tbody tr th {\n",
              "        vertical-align: top;\n",
              "    }\n",
              "\n",
              "    .dataframe thead th {\n",
              "        text-align: right;\n",
              "    }\n",
              "</style>\n",
              "<table border=\"1\" class=\"dataframe\">\n",
              "  <thead>\n",
              "    <tr style=\"text-align: right;\">\n",
              "      <th></th>\n",
              "      <th>test group</th>\n",
              "      <th>converted</th>\n",
              "      <th>most ads day</th>\n",
              "      <th>most ads hour</th>\n",
              "      <th>user id</th>\n",
              "    </tr>\n",
              "  </thead>\n",
              "  <tbody>\n",
              "    <tr>\n",
              "      <th>0</th>\n",
              "      <td>ad</td>\n",
              "      <td>False</td>\n",
              "      <td>Monday</td>\n",
              "      <td>0</td>\n",
              "      <td>804</td>\n",
              "    </tr>\n",
              "    <tr>\n",
              "      <th>1</th>\n",
              "      <td>ad</td>\n",
              "      <td>False</td>\n",
              "      <td>Monday</td>\n",
              "      <td>1</td>\n",
              "      <td>518</td>\n",
              "    </tr>\n",
              "    <tr>\n",
              "      <th>2</th>\n",
              "      <td>ad</td>\n",
              "      <td>False</td>\n",
              "      <td>Monday</td>\n",
              "      <td>2</td>\n",
              "      <td>699</td>\n",
              "    </tr>\n",
              "    <tr>\n",
              "      <th>3</th>\n",
              "      <td>ad</td>\n",
              "      <td>False</td>\n",
              "      <td>Monday</td>\n",
              "      <td>3</td>\n",
              "      <td>308</td>\n",
              "    </tr>\n",
              "    <tr>\n",
              "      <th>4</th>\n",
              "      <td>ad</td>\n",
              "      <td>False</td>\n",
              "      <td>Monday</td>\n",
              "      <td>4</td>\n",
              "      <td>87</td>\n",
              "    </tr>\n",
              "    <tr>\n",
              "      <th>...</th>\n",
              "      <td>...</td>\n",
              "      <td>...</td>\n",
              "      <td>...</td>\n",
              "      <td>...</td>\n",
              "      <td>...</td>\n",
              "    </tr>\n",
              "    <tr>\n",
              "      <th>597</th>\n",
              "      <td>psa</td>\n",
              "      <td>True</td>\n",
              "      <td>Sunday</td>\n",
              "      <td>18</td>\n",
              "      <td>4</td>\n",
              "    </tr>\n",
              "    <tr>\n",
              "      <th>598</th>\n",
              "      <td>psa</td>\n",
              "      <td>True</td>\n",
              "      <td>Sunday</td>\n",
              "      <td>19</td>\n",
              "      <td>6</td>\n",
              "    </tr>\n",
              "    <tr>\n",
              "      <th>599</th>\n",
              "      <td>psa</td>\n",
              "      <td>True</td>\n",
              "      <td>Sunday</td>\n",
              "      <td>20</td>\n",
              "      <td>4</td>\n",
              "    </tr>\n",
              "    <tr>\n",
              "      <th>600</th>\n",
              "      <td>psa</td>\n",
              "      <td>True</td>\n",
              "      <td>Sunday</td>\n",
              "      <td>21</td>\n",
              "      <td>3</td>\n",
              "    </tr>\n",
              "    <tr>\n",
              "      <th>601</th>\n",
              "      <td>psa</td>\n",
              "      <td>True</td>\n",
              "      <td>Sunday</td>\n",
              "      <td>22</td>\n",
              "      <td>2</td>\n",
              "    </tr>\n",
              "  </tbody>\n",
              "</table>\n",
              "<p>602 rows × 5 columns</p>\n",
              "</div>"
            ],
            "text/plain": [
              "    test group  converted most ads day most ads hour  user id\n",
              "0           ad      False       Monday             0      804\n",
              "1           ad      False       Monday             1      518\n",
              "2           ad      False       Monday             2      699\n",
              "3           ad      False       Monday             3      308\n",
              "4           ad      False       Monday             4       87\n",
              "..         ...        ...          ...           ...      ...\n",
              "597        psa       True       Sunday            18        4\n",
              "598        psa       True       Sunday            19        6\n",
              "599        psa       True       Sunday            20        4\n",
              "600        psa       True       Sunday            21        3\n",
              "601        psa       True       Sunday            22        2\n",
              "\n",
              "[602 rows x 5 columns]"
            ]
          },
          "metadata": {},
          "execution_count": 205
        }
      ]
    },
    {
      "cell_type": "code",
      "metadata": {
        "id": "1ol70jhCotba"
      },
      "source": [
        "# Add proportion of most ads hour\n",
        "ad_hour_prop = pivot_df.loc[pivot_df['test group']=='ad']['user id']/sum(pivot_df.loc[pivot_df['test group']=='ad']['user id'])*100\n",
        "psa_hour_prop = pivot_df.loc[pivot_df['test group']=='psa']['user id']/sum(pivot_df.loc[pivot_df['test group']=='psa']['user id'])*100\n",
        "ad_hour_prop = pd.DataFrame(ad_hour_prop)\n",
        "psa_hour_prop = pd.DataFrame(psa_hour_prop)"
      ],
      "execution_count": null,
      "outputs": []
    },
    {
      "cell_type": "code",
      "metadata": {
        "colab": {
          "base_uri": "https://localhost:8080/"
        },
        "id": "Nj49CGUlrCl8",
        "outputId": "d0957931-c3b6-4eee-f00f-c2b21265a99c"
      },
      "source": [
        "print(ad_hour_prop.shape)\n",
        "print(psa_hour_prop.shape)"
      ],
      "execution_count": null,
      "outputs": [
        {
          "output_type": "stream",
          "name": "stdout",
          "text": [
            "(168, 1)\n",
            "(167, 1)\n"
          ]
        }
      ]
    },
    {
      "cell_type": "code",
      "metadata": {
        "colab": {
          "base_uri": "https://localhost:8080/"
        },
        "id": "zeO8Yqb9rp4j",
        "outputId": "9d52f2b6-61a8-4978-d3ef-b5daf276f47e"
      },
      "source": [
        "hour_prop = pd.concat([ad_hour_prop,psa_hour_prop])\n",
        "hour_prop.rename(columns={'user id':'hour prop'}, inplace=True)\n",
        "print(hour_prop.head())"
      ],
      "execution_count": null,
      "outputs": [
        {
          "output_type": "stream",
          "name": "stdout",
          "text": [
            "   hour prop\n",
            "0   0.139640\n",
            "1   0.114415\n",
            "2   0.143964\n",
            "3   0.090811\n",
            "4   0.020180\n"
          ]
        }
      ]
    },
    {
      "cell_type": "code",
      "metadata": {
        "colab": {
          "base_uri": "https://localhost:8080/"
        },
        "id": "Toytrovvp47M",
        "outputId": "345054e2-7799-466c-86f0-18372e8268cf"
      },
      "source": [
        "pivot_df = pd.concat([pivot_df, hour_prop], axis=1)\n",
        "print(pivot_df.head())\n",
        "print(pivot_df.tail())"
      ],
      "execution_count": null,
      "outputs": [
        {
          "output_type": "stream",
          "name": "stdout",
          "text": [
            "  test group  converted most ads day most ads hour  user id  hour prop\n",
            "0         ad      False       Monday             0      804   0.139640\n",
            "1         ad      False       Monday             1      518   0.114415\n",
            "2         ad      False       Monday             2      699   0.143964\n",
            "3         ad      False       Monday             3      308   0.090811\n",
            "4         ad      False       Monday             4       87   0.020180\n",
            "    test group  converted most ads day most ads hour  user id  hour prop\n",
            "597        psa       True       Sunday            18        4   0.030340\n",
            "598        psa       True       Sunday            19        6   0.008669\n",
            "599        psa       True       Sunday            20        4   0.013003\n",
            "600        psa       True       Sunday            21        3   0.008669\n",
            "601        psa       True       Sunday            22        2   0.008669\n"
          ]
        }
      ]
    },
    {
      "cell_type": "code",
      "metadata": {
        "colab": {
          "base_uri": "https://localhost:8080/"
        },
        "id": "r9JOpeWHcawI",
        "outputId": "abac085e-4658-4ef7-80c3-cc083e5417bd"
      },
      "source": [
        "# Calculate convert rate in each group\n",
        "prob_ad = market[(market['converted']==True) & (market['test group']=='ad')]['user id'].count()/len(market[market['test group']=='ad'])\n",
        "prob_psa = market[(market['converted']==True) & (market['test group']=='psa')]['user id'].count()/len(market[market['test group']=='psa'])\n",
        "print(f\"AD converted rate: {round(prob_ad*100,2)} %\")\n",
        "print(f\"PSA converted rate: {round(prob_psa*100,2)} %\")\n"
      ],
      "execution_count": null,
      "outputs": [
        {
          "output_type": "stream",
          "name": "stdout",
          "text": [
            "AD converted rate: 2.32 %\n",
            "PSA converted rate: 1.55 %\n"
          ]
        }
      ]
    },
    {
      "cell_type": "markdown",
      "metadata": {
        "id": "YaGXzYrvsCdh"
      },
      "source": [
        "# **Data Visualization**"
      ]
    },
    {
      "cell_type": "code",
      "metadata": {
        "colab": {
          "base_uri": "https://localhost:8080/",
          "height": 367
        },
        "id": "ewl_2iZE13Zo",
        "outputId": "318afd18-e9b5-4e90-8295-e49b7e8b100a"
      },
      "source": [
        "fig, ax = plt.subplots(1,2)\n",
        "fig.set_figheight(5)\n",
        "fig.set_figwidth(20)\n",
        "sns.histplot(data=market[market['test group'] == 'ad'], x='total ads', ax=ax[0], kde = True, stat=\"density\", bins = 156)\n",
        "sns.histplot(data=market[market['test group'] == 'psa'], x='total ads', ax=ax[1], kde = True, stat=\"density\", bins = 152)\n",
        "ax[0].set_title('AD')\n",
        "ax[1].set_title('PSA')\n",
        "## PSA has higher peaks, showing a more concentrated distribution"
      ],
      "execution_count": null,
      "outputs": [
        {
          "output_type": "execute_result",
          "data": {
            "text/plain": [
              "Text(0.5, 1.0, 'PSA')"
            ]
          },
          "metadata": {},
          "execution_count": 191
        },
        {
          "output_type": "display_data",
          "data": {
            "image/png": "[encoded data removed]",
            "text/plain": [
              "<Figure size 1440x360 with 2 Axes>"
            ]
          },
          "metadata": {
            "needs_background": "light"
          }
        }
      ]
    },
    {
      "cell_type": "code",
      "metadata": {
        "colab": {
          "base_uri": "https://localhost:8080/",
          "height": 367
        },
        "id": "Xo8v7Jl4B-WI",
        "outputId": "aea4b739-9a4f-4180-9b16-cac148c131e5"
      },
      "source": [
        "fig, ax = plt.subplots(figsize = (10,5))\n",
        "\n",
        "sns.lineplot(data = pivot_df, x='most ads hour', y= 'hour prop', hue = 'test group')\n",
        "ax.set_title('Proportions of Most Ads Hour in Each Group')\n",
        "\n",
        "## PSA has higher peak, showing a more concentrated distribution\n",
        "# Both groups have most ads hour peak in 12PM."
      ],
      "execution_count": null,
      "outputs": [
        {
          "output_type": "execute_result",
          "data": {
            "text/plain": [
              "Text(0.5, 1.0, 'Proportions of Most Ads Hour in Each Group')"
            ]
          },
          "metadata": {},
          "execution_count": 211
        },
        {
          "output_type": "display_data",
          "data": {
            "image/png": "[encoded data removed]",
            "text/plain": [
              "<Figure size 720x360 with 1 Axes>"
            ]
          },
          "metadata": {
            "needs_background": "light"
          }
        }
      ]
    },
    {
      "cell_type": "code",
      "metadata": {
        "colab": {
          "base_uri": "https://localhost:8080/",
          "height": 351
        },
        "id": "1yrlqHNIpHCV",
        "outputId": "f31ed426-cd70-4b71-ea6e-07f2a5a11525"
      },
      "source": [
        "market['most ads day'] = pd.Categorical(market['most ads day'], ['Monday','Tuesday','Wednesday','Thursday','Friday','Saturday','Sunday'])\n",
        "\n",
        "fig, ax = plt.subplots(1,2)\n",
        "fig.set_figheight(5)\n",
        "fig.set_figwidth(20)\n",
        "\n",
        "sns.histplot(data = market[market['test group'] == 'ad'], x = 'most ads day', ax = ax[0], stat = 'density')\n",
        "sns.histplot(data = market[market['test group'] == 'psa'], x = 'most ads day', ax = ax[1], stat = 'density')\n",
        "\n",
        "# For AD, Friday is the highest viewed day, and the distribution is similar. \n",
        "# For PSA, Thursday is the highest viewed day, while the distribution is peaked from Wed ~ Fri"
      ],
      "execution_count": null,
      "outputs": [
        {
          "output_type": "execute_result",
          "data": {
            "text/plain": [
              "<matplotlib.axes._subplots.AxesSubplot at 0x7fe2903dd7d0>"
            ]
          },
          "metadata": {},
          "execution_count": 193
        },
        {
          "output_type": "display_data",
          "data": {
            "image/png": "[encoded data removed]",
            "text/plain": [
              "<Figure size 1440x360 with 2 Axes>"
            ]
          },
          "metadata": {
            "needs_background": "light"
          }
        }
      ]
    },
    {
      "cell_type": "code",
      "metadata": {
        "colab": {
          "base_uri": "https://localhost:8080/",
          "height": 483
        },
        "id": "q7np1PKHTofk",
        "outputId": "0d91103f-61d6-49fd-a672-67723a1c4784"
      },
      "source": [
        "convert_df = market.loc[market['converted']==True].groupby('test group')['most ads day'].value_counts(normalize=True).rename('percentage').reset_index()\n",
        "convert_df"
      ],
      "execution_count": null,
      "outputs": [
        {
          "output_type": "execute_result",
          "data": {
            "text/html": [
              "<div>\n",
              "<style scoped>\n",
              "    .dataframe tbody tr th:only-of-type {\n",
              "        vertical-align: middle;\n",
              "    }\n",
              "\n",
              "    .dataframe tbody tr th {\n",
              "        vertical-align: top;\n",
              "    }\n",
              "\n",
              "    .dataframe thead th {\n",
              "        text-align: right;\n",
              "    }\n",
              "</style>\n",
              "<table border=\"1\" class=\"dataframe\">\n",
              "  <thead>\n",
              "    <tr style=\"text-align: right;\">\n",
              "      <th></th>\n",
              "      <th>test group</th>\n",
              "      <th>most ads day</th>\n",
              "      <th>percentage</th>\n",
              "    </tr>\n",
              "  </thead>\n",
              "  <tbody>\n",
              "    <tr>\n",
              "      <th>0</th>\n",
              "      <td>ad</td>\n",
              "      <td>Monday</td>\n",
              "      <td>0.192905</td>\n",
              "    </tr>\n",
              "    <tr>\n",
              "      <th>1</th>\n",
              "      <td>ad</td>\n",
              "      <td>Tuesday</td>\n",
              "      <td>0.159603</td>\n",
              "    </tr>\n",
              "    <tr>\n",
              "      <th>2</th>\n",
              "      <td>ad</td>\n",
              "      <td>Sunday</td>\n",
              "      <td>0.141050</td>\n",
              "    </tr>\n",
              "    <tr>\n",
              "      <th>3</th>\n",
              "      <td>ad</td>\n",
              "      <td>Wednesday</td>\n",
              "      <td>0.137867</td>\n",
              "    </tr>\n",
              "    <tr>\n",
              "      <th>4</th>\n",
              "      <td>ad</td>\n",
              "      <td>Friday</td>\n",
              "      <td>0.135227</td>\n",
              "    </tr>\n",
              "    <tr>\n",
              "      <th>5</th>\n",
              "      <td>ad</td>\n",
              "      <td>Thursday</td>\n",
              "      <td>0.118382</td>\n",
              "    </tr>\n",
              "    <tr>\n",
              "      <th>6</th>\n",
              "      <td>ad</td>\n",
              "      <td>Saturday</td>\n",
              "      <td>0.114967</td>\n",
              "    </tr>\n",
              "    <tr>\n",
              "      <th>7</th>\n",
              "      <td>psa</td>\n",
              "      <td>Thursday</td>\n",
              "      <td>0.189944</td>\n",
              "    </tr>\n",
              "    <tr>\n",
              "      <th>8</th>\n",
              "      <td>psa</td>\n",
              "      <td>Monday</td>\n",
              "      <td>0.184358</td>\n",
              "    </tr>\n",
              "    <tr>\n",
              "      <th>9</th>\n",
              "      <td>psa</td>\n",
              "      <td>Sunday</td>\n",
              "      <td>0.153631</td>\n",
              "    </tr>\n",
              "    <tr>\n",
              "      <th>10</th>\n",
              "      <td>psa</td>\n",
              "      <td>Friday</td>\n",
              "      <td>0.136872</td>\n",
              "    </tr>\n",
              "    <tr>\n",
              "      <th>11</th>\n",
              "      <td>psa</td>\n",
              "      <td>Wednesday</td>\n",
              "      <td>0.131285</td>\n",
              "    </tr>\n",
              "    <tr>\n",
              "      <th>12</th>\n",
              "      <td>psa</td>\n",
              "      <td>Tuesday</td>\n",
              "      <td>0.108939</td>\n",
              "    </tr>\n",
              "    <tr>\n",
              "      <th>13</th>\n",
              "      <td>psa</td>\n",
              "      <td>Saturday</td>\n",
              "      <td>0.094972</td>\n",
              "    </tr>\n",
              "  </tbody>\n",
              "</table>\n",
              "</div>"
            ],
            "text/plain": [
              "   test group most ads day  percentage\n",
              "0          ad       Monday    0.192905\n",
              "1          ad      Tuesday    0.159603\n",
              "2          ad       Sunday    0.141050\n",
              "3          ad    Wednesday    0.137867\n",
              "4          ad       Friday    0.135227\n",
              "5          ad     Thursday    0.118382\n",
              "6          ad     Saturday    0.114967\n",
              "7         psa     Thursday    0.189944\n",
              "8         psa       Monday    0.184358\n",
              "9         psa       Sunday    0.153631\n",
              "10        psa       Friday    0.136872\n",
              "11        psa    Wednesday    0.131285\n",
              "12        psa      Tuesday    0.108939\n",
              "13        psa     Saturday    0.094972"
            ]
          },
          "metadata": {},
          "execution_count": 194
        }
      ]
    },
    {
      "cell_type": "code",
      "metadata": {
        "colab": {
          "base_uri": "https://localhost:8080/",
          "height": 483
        },
        "id": "F008rCWyVO_X",
        "outputId": "c5a08a72-5b09-45e8-b37d-24dc27fc4c95"
      },
      "source": [
        "nonconvert_df = market.loc[market['converted']==False].groupby('test group')['most ads day'].value_counts(normalize=True).rename('percentage').reset_index()\n",
        "nonconvert_df"
      ],
      "execution_count": null,
      "outputs": [
        {
          "output_type": "execute_result",
          "data": {
            "text/html": [
              "<div>\n",
              "<style scoped>\n",
              "    .dataframe tbody tr th:only-of-type {\n",
              "        vertical-align: middle;\n",
              "    }\n",
              "\n",
              "    .dataframe tbody tr th {\n",
              "        vertical-align: top;\n",
              "    }\n",
              "\n",
              "    .dataframe thead th {\n",
              "        text-align: right;\n",
              "    }\n",
              "</style>\n",
              "<table border=\"1\" class=\"dataframe\">\n",
              "  <thead>\n",
              "    <tr style=\"text-align: right;\">\n",
              "      <th></th>\n",
              "      <th>test group</th>\n",
              "      <th>most ads day</th>\n",
              "      <th>percentage</th>\n",
              "    </tr>\n",
              "  </thead>\n",
              "  <tbody>\n",
              "    <tr>\n",
              "      <th>0</th>\n",
              "      <td>ad</td>\n",
              "      <td>Friday</td>\n",
              "      <td>0.157029</td>\n",
              "    </tr>\n",
              "    <tr>\n",
              "      <th>1</th>\n",
              "      <td>ad</td>\n",
              "      <td>Monday</td>\n",
              "      <td>0.146635</td>\n",
              "    </tr>\n",
              "    <tr>\n",
              "      <th>2</th>\n",
              "      <td>ad</td>\n",
              "      <td>Sunday</td>\n",
              "      <td>0.146330</td>\n",
              "    </tr>\n",
              "    <tr>\n",
              "      <th>3</th>\n",
              "      <td>ad</td>\n",
              "      <td>Thursday</td>\n",
              "      <td>0.140780</td>\n",
              "    </tr>\n",
              "    <tr>\n",
              "      <th>4</th>\n",
              "      <td>ad</td>\n",
              "      <td>Saturday</td>\n",
              "      <td>0.140324</td>\n",
              "    </tr>\n",
              "    <tr>\n",
              "      <th>5</th>\n",
              "      <td>ad</td>\n",
              "      <td>Wednesday</td>\n",
              "      <td>0.137098</td>\n",
              "    </tr>\n",
              "    <tr>\n",
              "      <th>6</th>\n",
              "      <td>ad</td>\n",
              "      <td>Tuesday</td>\n",
              "      <td>0.131804</td>\n",
              "    </tr>\n",
              "    <tr>\n",
              "      <th>7</th>\n",
              "      <td>psa</td>\n",
              "      <td>Thursday</td>\n",
              "      <td>0.165096</td>\n",
              "    </tr>\n",
              "    <tr>\n",
              "      <th>8</th>\n",
              "      <td>psa</td>\n",
              "      <td>Friday</td>\n",
              "      <td>0.161574</td>\n",
              "    </tr>\n",
              "    <tr>\n",
              "      <th>9</th>\n",
              "      <td>psa</td>\n",
              "      <td>Wednesday</td>\n",
              "      <td>0.149159</td>\n",
              "    </tr>\n",
              "    <tr>\n",
              "      <th>10</th>\n",
              "      <td>psa</td>\n",
              "      <td>Monday</td>\n",
              "      <td>0.147882</td>\n",
              "    </tr>\n",
              "    <tr>\n",
              "      <th>11</th>\n",
              "      <td>psa</td>\n",
              "      <td>Sunday</td>\n",
              "      <td>0.130228</td>\n",
              "    </tr>\n",
              "    <tr>\n",
              "      <th>12</th>\n",
              "      <td>psa</td>\n",
              "      <td>Tuesday</td>\n",
              "      <td>0.124505</td>\n",
              "    </tr>\n",
              "    <tr>\n",
              "      <th>13</th>\n",
              "      <td>psa</td>\n",
              "      <td>Saturday</td>\n",
              "      <td>0.121555</td>\n",
              "    </tr>\n",
              "  </tbody>\n",
              "</table>\n",
              "</div>"
            ],
            "text/plain": [
              "   test group most ads day  percentage\n",
              "0          ad       Friday    0.157029\n",
              "1          ad       Monday    0.146635\n",
              "2          ad       Sunday    0.146330\n",
              "3          ad     Thursday    0.140780\n",
              "4          ad     Saturday    0.140324\n",
              "5          ad    Wednesday    0.137098\n",
              "6          ad      Tuesday    0.131804\n",
              "7         psa     Thursday    0.165096\n",
              "8         psa       Friday    0.161574\n",
              "9         psa    Wednesday    0.149159\n",
              "10        psa       Monday    0.147882\n",
              "11        psa       Sunday    0.130228\n",
              "12        psa      Tuesday    0.124505\n",
              "13        psa     Saturday    0.121555"
            ]
          },
          "metadata": {},
          "execution_count": 195
        }
      ]
    },
    {
      "cell_type": "code",
      "metadata": {
        "colab": {
          "base_uri": "https://localhost:8080/",
          "height": 367
        },
        "id": "KOokbuokHKnz",
        "outputId": "9013db75-a799-4bd2-fd12-55b6594ad715"
      },
      "source": [
        "# Converted Rates of Most Ads Day in Each Group\n",
        "fig, ax = plt.subplots(figsize = (10,5))\n",
        "\n",
        "sns.barplot(data = convert_df, x = 'most ads day',y='percentage', hue = 'test group')\n",
        "ax.set_title('Converted Rates of Most Ads Day in Each Group')"
      ],
      "execution_count": null,
      "outputs": [
        {
          "output_type": "execute_result",
          "data": {
            "text/plain": [
              "Text(0.5, 1.0, 'Converted Rates of Most Ads Day in Each Group')"
            ]
          },
          "metadata": {},
          "execution_count": 196
        },
        {
          "output_type": "display_data",
          "data": {
            "image/png": "[encoded data removed]",
            "text/plain": [
              "<Figure size 720x360 with 1 Axes>"
            ]
          },
          "metadata": {
            "needs_background": "light"
          }
        }
      ]
    },
    {
      "cell_type": "code",
      "metadata": {
        "colab": {
          "base_uri": "https://localhost:8080/",
          "height": 367
        },
        "id": "APnU3IBTWdZg",
        "outputId": "94630ec8-81b6-4db5-bccd-150e889a5213"
      },
      "source": [
        "# Non-converted Rates of Most Ads Day in Each Group\n",
        "fig, ax = plt.subplots(figsize = (10,5))\n",
        "\n",
        "sns.barplot(data = nonconvert_df, x= 'most ads day', y='percentage', hue = 'test group')\n",
        "ax.set_title('Non-converted Rates of Most Ads Day in Each Group')"
      ],
      "execution_count": null,
      "outputs": [
        {
          "output_type": "execute_result",
          "data": {
            "text/plain": [
              "Text(0.5, 1.0, 'Non-converted Rates of Most Ads Day in Each Group')"
            ]
          },
          "metadata": {},
          "execution_count": 197
        },
        {
          "output_type": "display_data",
          "data": {
            "image/png": "[encoded data removed]",
            "text/plain": [
              "<Figure size 720x360 with 1 Axes>"
            ]
          },
          "metadata": {
            "needs_background": "light"
          }
        }
      ]
    },
    {
      "cell_type": "markdown",
      "metadata": {
        "id": "6PJmDllZoUGX"
      },
      "source": [
        "# **Bootstrap**"
      ]
    },
    {
      "cell_type": "markdown",
      "metadata": {
        "id": "Tht9mT6ZAo2Z"
      },
      "source": [
        "In the previous part, it showed that the AD converted rate was 2.32%, and the PSA converted rate was 1.55%. To ensure the differences between the two groups, I used bootstrap to repeatedly resampled the data 10,000 times and calculate the average converted rate.\n",
        "The variation in bootstrap sampling would indicate how uncertain the average converted rates were in both groups. Our hypothesis in this test was that people seeing advertisements were more likely to purchase compared to those seeing public service announcements or nothing.\n",
        "i.e.  **H0: Average Converted rate in \"AD\" = Average Converted rate in \"PSA\"**"
      ]
    },
    {
      "cell_type": "code",
      "metadata": {
        "id": "Thn5OpFtoX5b"
      },
      "source": [
        "boot_list = []\n",
        "iteration = 10000\n",
        "for i in range(iteration):\n",
        "  boot_mean = round(market.sample(frac=1, replace=True).groupby('test group')['converted'].mean()*100,4)\n",
        "  boot_list.append(boot_mean)"
      ],
      "execution_count": null,
      "outputs": []
    },
    {
      "cell_type": "code",
      "metadata": {
        "colab": {
          "base_uri": "https://localhost:8080/"
        },
        "id": "x2zaxZrSxuBf",
        "outputId": "3bba88f2-2868-4fff-cfd4-6e7ce5a728a6"
      },
      "source": [
        "# Convert to DataFrame\n",
        "boot_df = pd.DataFrame(boot_list)\n",
        "print(boot_df.head())"
      ],
      "execution_count": null,
      "outputs": [
        {
          "output_type": "stream",
          "name": "stdout",
          "text": [
            "test group      ad     psa\n",
            "converted   2.3015  1.5504\n",
            "converted   2.3074  1.5120\n",
            "converted   2.3121  1.5288\n",
            "converted   2.2883  1.7299\n",
            "converted   2.3166  1.5983\n"
          ]
        }
      ]
    },
    {
      "cell_type": "code",
      "metadata": {
        "colab": {
          "base_uri": "https://localhost:8080/",
          "height": 296
        },
        "id": "FHusVF9Wx-d5",
        "outputId": "971440bd-6c6b-4ce6-cbd7-c13ecf87b0e1"
      },
      "source": [
        "# A Kernel Density Estimate plot of the bootstrap distributions\n",
        "ax = boot_df.plot(kind='kde')\n",
        "ax.set_xlabel('Convert Percentage (%)')\n",
        "ax.set_ylabel('Frequency')"
      ],
      "execution_count": null,
      "outputs": [
        {
          "output_type": "execute_result",
          "data": {
            "text/plain": [
              "Text(0, 0.5, 'Frequency')"
            ]
          },
          "metadata": {},
          "execution_count": 200
        },
        {
          "output_type": "display_data",
          "data": {
            "image/png": "[encoded data removed]",
            "text/plain": [
              "<Figure size 432x288 with 1 Axes>"
            ]
          },
          "metadata": {
            "needs_background": "light"
          }
        }
      ]
    },
    {
      "cell_type": "code",
      "metadata": {
        "colab": {
          "base_uri": "https://localhost:8080/"
        },
        "id": "4PlcTyvACezM",
        "outputId": "d57d8b32-c470-4dc2-d494-987ef46108af"
      },
      "source": [
        "# Calculate the % differences of converted rates between AB groups\n",
        "boot_df['Diff'] = (boot_df['ad'] - boot_df['psa'])/boot_df['psa']*100\n",
        "print(boot_df['Diff'].head())"
      ],
      "execution_count": null,
      "outputs": [
        {
          "output_type": "stream",
          "name": "stdout",
          "text": [
            "converted    48.445562\n",
            "converted    52.605820\n",
            "converted    51.236264\n",
            "converted    32.279323\n",
            "converted    44.941500\n",
            "Name: Diff, dtype: float64\n"
          ]
        }
      ]
    },
    {
      "cell_type": "code",
      "metadata": {
        "colab": {
          "base_uri": "https://localhost:8080/",
          "height": 296
        },
        "id": "4Dv6BGU2C_VE",
        "outputId": "1bc88db8-32f4-43be-db24-b909cdcb2582"
      },
      "source": [
        "# Ploting the bootstrap % difference\n",
        "ax = boot_df['Diff'].plot(kind='kde')\n",
        "ax.set_xlabel('% difference in means')"
      ],
      "execution_count": null,
      "outputs": [
        {
          "output_type": "execute_result",
          "data": {
            "text/plain": [
              "Text(0.5, 0, '% difference in means')"
            ]
          },
          "metadata": {},
          "execution_count": 202
        },
        {
          "output_type": "display_data",
          "data": {
            "image/png": "[encoded data removed]",
            "text/plain": [
              "<Figure size 432x288 with 1 Axes>"
            ]
          },
          "metadata": {
            "needs_background": "light"
          }
        }
      ]
    },
    {
      "cell_type": "code",
      "metadata": {
        "colab": {
          "base_uri": "https://localhost:8080/"
        },
        "id": "iBg2X-T0jqNz",
        "outputId": "60416561-9a3a-489a-a9b5-f96a8ba7e888"
      },
      "source": [
        "# Calculate the probability of converted rate in \"AD\" group(treatment group) is greater than that in \"PSA\" group(control group)\n",
        "Prob = boot_df[boot_df['Diff']>=0]['Diff'].count()/len(boot_df)\n",
        "print(f\"Probaility: {Prob}\")"
      ],
      "execution_count": null,
      "outputs": [
        {
          "output_type": "stream",
          "name": "stdout",
          "text": [
            "Probaility: 1.0\n"
          ]
        }
      ]
    },
    {
      "cell_type": "markdown",
      "metadata": {
        "id": "AwO9zKH2ofg7"
      },
      "source": [
        "The result showed that the probability of converted rate in \"AD\" is \n",
        "greater than that in \"PSA\" is 100%, meaning that the difference between the two groups was statistically significant. Moreover, the average difference between both group was about 50%."
      ]
    },
    {
      "cell_type": "markdown",
      "metadata": {
        "id": "EtmqEkTBkSuJ"
      },
      "source": [
        "# **Conclusion**\n",
        "The result from bootstrap showed that the converted rate in treatment group(AD) was statistically greater than that in control group(PSA).\n",
        "Thus, the conclusion was that people seeing advertisements would more likely to buy the product compared to compared to seeing public service announcements or nothing.\n",
        "\n",
        "Moreover, from the data exploration graph, we could conclude that people who buy products were more likely to see advertisements on Mondays, which means that the company could put more advertisements on Monday or increase the advertisement prices launched on Monday. On Saturday, both AD and PSA group have the least converted rates, meaning that the advertisement and other campaign did not work well on Saturday. On Thursday, the converted rate was higher in PSA group compared to that in AD group. Thus, the company could focus more on public service announcements on Thursday. "
      ]
    }
  ]
}